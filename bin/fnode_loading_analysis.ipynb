{
 "cells": [
  {
   "cell_type": "code",
   "execution_count": 27,
   "metadata": {},
   "outputs": [],
   "source": [
    "%matplotlib ipympl\n",
    "from QDP import qdp\n",
    "import os.path\n",
    "import numpy as np\n",
    "from scipy.stats import poisson\n",
    "import matplotlib.pyplot as plt\n",
    "dp = '/home/ebert/jupyter-notebooks/FNode-data'"
   ]
  },
  {
   "cell_type": "code",
   "execution_count": 36,
   "metadata": {
    "scrolled": false
   },
   "outputs": [
    {
     "name": "stdout",
     "output_type": "stream",
     "text": [
      "data at: 2018_11_19/2018_11_19_15_59_57_iz-0.145+-0.1dumpfort300mscyclerb-5/results.hdf5\n",
      "name 'fort_exp' is not defined\n",
      "name 'rb_uwave_freq' is not defined\n",
      "ivars: [u'Iz']\n",
      "Could not find conditional retention\n",
      "Could not find conditional retention\n",
      "Could not find conditional retention\n",
      "Could not find conditional retention\n",
      "Could not find conditional retention\n",
      "Could not find conditional retention\n",
      "Could not find conditional retention\n",
      "Could not find conditional retention\n",
      "Could not find conditional retention\n",
      "Could not find conditional retention\n",
      "Could not find conditional retention\n",
      "ivar: -0.2450\tcloading: 0.167\trloading: 0.036\t\tcretention: 0.000 +- 0.064\trretention: 0.000 +- 0.064\n",
      "ivar: -0.2250\tcloading: 0.176\trloading: 0.044\t\tcretention: 0.000 +- 0.053\trretention: 0.000 +- 0.053\n",
      "ivar: -0.2050\tcloading: 0.187\trloading: 0.080\t\tcretention: 0.000 +- 0.029\trretention: 0.000 +- 0.029\n",
      "ivar: -0.1850\tcloading: 0.251\trloading: 0.112\t\tcretention: 0.000 +- 0.021\trretention: 0.000 +- 0.021\n",
      "ivar: -0.1650\tcloading: 0.144\trloading: 0.100\t\tcretention: 0.000 +- 0.024\trretention: 0.000 +- 0.024\n",
      "ivar: -0.1450\tcloading: 0.191\trloading: 0.124\t\tcretention: 0.000 +- 0.019\trretention: 0.000 +- 0.019\n",
      "ivar: -0.1250\tcloading: 0.124\trloading: 0.135\t\tcretention: 0.000 +- 0.017\trretention: 0.000 +- 0.017\n",
      "ivar: -0.1050\tcloading: 0.171\trloading: 0.116\t\tcretention: 0.000 +- 0.020\trretention: 0.000 +- 0.020\n",
      "ivar: -0.0850\tcloading: 0.175\trloading: 0.124\t\tcretention: 0.000 +- 0.019\trretention: 0.000 +- 0.019\n",
      "ivar: -0.0650\tcloading: 0.151\trloading: 0.096\t\tcretention: 0.000 +- 0.025\trretention: 0.000 +- 0.025\n",
      "ivar: -0.0450\tcloading: 0.135\trloading: 0.080\t\tcretention: 0.000 +- 0.029\trretention: 0.000 +- 0.029\n",
      "Could not find conditional retention\n",
      "Could not find conditional retention\n",
      "Could not find conditional retention\n",
      "Could not find conditional retention\n",
      "Could not find conditional retention\n",
      "Could not find conditional retention\n",
      "Could not find conditional retention\n",
      "Could not find conditional retention\n",
      "Could not find conditional retention\n",
      "Could not find conditional retention\n",
      "Could not find conditional retention\n"
     ]
    },
    {
     "data": {
      "application/vnd.jupyter.widget-view+json": {
       "model_id": "1b74d9f5a15049dab4481e3432cf0f58",
       "version_major": 2,
       "version_minor": 0
      },
      "text/html": [
       "<p>Failed to display Jupyter Widget of type <code>FigureCanvasNbAgg</code>.</p>\n",
       "<p>\n",
       "  If you're reading this message in Jupyter Notebook or JupyterLab, it may mean\n",
       "  that the widgets JavaScript is still loading. If this message persists, it\n",
       "  likely means that the widgets JavaScript library is either not installed or\n",
       "  not enabled. See the <a href=\"https://ipywidgets.readthedocs.io/en/stable/user_install.html\">Jupyter\n",
       "  Widgets Documentation</a> for setup instructions.\n",
       "</p>\n",
       "<p>\n",
       "  If you're reading this message in another notebook frontend (for example, a static\n",
       "  rendering on GitHub or <a href=\"https://nbviewer.jupyter.org/\">NBViewer</a>),\n",
       "  it may mean that your frontend doesn't currently support widgets.\n",
       "</p>\n"
      ],
      "text/plain": [
       "FigureCanvasNbAgg()"
      ]
     },
     "metadata": {},
     "output_type": "display_data"
    }
   ],
   "source": [
    "exp_name = ''\n",
    "if exp_name:\n",
    "    exp_date = '_'.join(exp_name.split('_')[:3])\n",
    "    experiment_file = os.path.join(exp_date, exp_name, 'results.hdf5')\n",
    "else:\n",
    "    experiment_file = ''\n",
    "q = qdp.QDP(base_data_path=dp)\n",
    "q.load_data_file(experiment_file)\n",
    "print \"ivars: {}\".format(q.experiments[0]['variable_list'])\n",
    "cs_cuts = [[46],[175]]\n",
    "rb_cuts = [[42],[175]]\n",
    "q.set_thresholds(cs_cuts, roi=0)\n",
    "q.set_thresholds(rb_cuts, roi=1)\n",
    "# q.generate_thresholds(loss=False)\n",
    "retention = q.apply_thresholds(exclude_rois=[2])\n",
    "cuts = q.get_thresholds()\n",
    "roi_map = ['cs', 'rb']\n",
    "entries = np.product(retention['retention'].shape[:-1])\n",
    "tbl_str = \"ivar: {0:.4f}\\tcloading: {1:.3f}\\trloading: {2:.3f}\\t\\tcretention: {3:.3f} +- {4:.3f}\\trretention: {5:.3f} +- {6:.3f}\"\n",
    "for i in range(entries):\n",
    "    print(tbl_str.format(\n",
    "        retention['ivar'].reshape((entries,-1))[i][0],\n",
    "        retention['loading'].reshape((entries,-1))[i][0], retention['loading'].reshape((entries,-1))[i][1],\n",
    "        retention['retention'].reshape((entries,-1))[i][0], retention['error'].reshape((entries,-1))[i][0],\n",
    "        retention['retention'].reshape((entries,-1))[i][1], retention['error'].reshape((entries,-1))[i][1]\n",
    "    ))\n",
    "q.save_experiment_data()\n",
    "xlab = q.experiments[0]['variable_desc'][q.experiments[0]['variable_list'][0]]['description']\n",
    "fig, ax = plt.subplots()\n",
    "for e in range(len(retention['ivar'])):\n",
    "    ax.plot(retention['ivar'][e, :, 0], retention['loading'][e, :, 0], 'bo')\n",
    "    ax.plot(retention['ivar'][e, :, 0], retention['loading'][e, :, 1], 'rx')\n",
    "ax.set_ylim(0, 1.05*np.nanmax(retention['loading']))\n",
    "ax.set_xlabel(xlab)\n",
    "ax.set_ylabel('loading')\n",
    "\n",
    "fmts = ['pdf', 'png']\n",
    "fn = os.path.join(dp, q.experiments[0]['source_path'], 'loading_scan.{}')\n",
    "for fmt in fmts:\n",
    "    fig.savefig(fn.format(fmt), dpi=200, format=fmt)"
   ]
  },
  {
   "cell_type": "code",
   "execution_count": null,
   "metadata": {},
   "outputs": [],
   "source": []
  }
 ],
 "metadata": {
  "kernelspec": {
   "display_name": "Python 2",
   "language": "python",
   "name": "python2"
  },
  "language_info": {
   "codemirror_mode": {
    "name": "ipython",
    "version": 2
   },
   "file_extension": ".py",
   "mimetype": "text/x-python",
   "name": "python",
   "nbconvert_exporter": "python",
   "pygments_lexer": "ipython2",
   "version": "2.7.6"
  }
 },
 "nbformat": 4,
 "nbformat_minor": 2
}
