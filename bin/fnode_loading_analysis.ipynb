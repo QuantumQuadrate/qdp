{
 "cells": [
  {
   "cell_type": "code",
   "execution_count": 1,
   "metadata": {},
   "outputs": [],
   "source": [
    "%matplotlib ipympl\n",
    "from QDP import qdp\n",
    "import os.path\n",
    "import numpy as np\n",
    "from scipy.stats import poisson\n",
    "import matplotlib.pyplot as plt\n",
    "dp = '/home/ebert/jupyter-notebooks/FNode-data'"
   ]
  },
  {
   "cell_type": "code",
   "execution_count": 2,
   "metadata": {
    "scrolled": false
   },
   "outputs": [
    {
     "name": "stdout",
     "output_type": "stream",
     "text": [
      "name 'fort_exp' is not defined\n",
      "name 'rb_uwave_freq' is not defined\n",
      "ivars: [u'rb_d2_mot_amp']\n",
      "no loading observed\n",
      "no loading observed\n",
      "no loading observed\n",
      "no loading observed\n",
      "no loading observed\n",
      "ivar: -8.6000\tcloading: 0.210\trloading: 0.171\t\tcretention: 0.738 +- 0.014\trretention: 0.947 +- 0.014\n",
      "ivar: -9.0000\tcloading: 0.226\trloading: 0.128\t\tcretention: 0.748 +- 0.020\trretention: 0.922 +- 0.020\n",
      "ivar: -9.4000\tcloading: 0.277\trloading: 0.089\t\tcretention: 0.874 +- 0.016\trretention: 0.966 +- 0.016\n",
      "ivar: -9.8000\tcloading: 0.179\trloading: 0.079\t\tcretention: 0.872 +- 0.025\trretention: 0.924 +- 0.025\n",
      "ivar: -10.2000\tcloading: 0.192\trloading: 0.029\t\tcretention: 0.943 +- 0.028\trretention: 0.966 +- 0.028\n",
      "ivar: -10.6000\tcloading: 0.203\trloading: 0.004\t\tcretention: 0.842 +- 0.182\trretention: 0.750 +- 0.182\n"
     ]
    },
    {
     "name": "stderr",
     "output_type": "stream",
     "text": [
      "/home/ebert/jupyter-notebooks/FNode/analyses/qdp/QDP/qdp.py:102: RuntimeWarning: invalid value encountered in sqrt\n",
      "  errs[r] = (z/n[r].astype('float'))*np.sqrt(ns[r].astype('float')*(1.0-ns[r].astype('float')/n[r].astype('float')))\n",
      "/home/ebert/jupyter-notebooks/FNode/analyses/qdp/QDP/qdp.py:258: RuntimeWarning: divide by zero encountered in divide\n",
      "  e['iterations'][i]['retention'] = retention/loaded\n",
      "/home/ebert/jupyter-notebooks/FNode/analyses/qdp/QDP/qdp.py:258: RuntimeWarning: invalid value encountered in divide\n",
      "  e['iterations'][i]['retention'] = retention/loaded\n"
     ]
    },
    {
     "data": {
      "application/vnd.jupyter.widget-view+json": {
       "model_id": "f2b53e7fa9ec4268973d34161fa4ea89",
       "version_major": 2,
       "version_minor": 0
      },
      "text/html": [
       "<p>Failed to display Jupyter Widget of type <code>FigureCanvasNbAgg</code>.</p>\n",
       "<p>\n",
       "  If you're reading this message in Jupyter Notebook or JupyterLab, it may mean\n",
       "  that the widgets JavaScript is still loading. If this message persists, it\n",
       "  likely means that the widgets JavaScript library is either not installed or\n",
       "  not enabled. See the <a href=\"https://ipywidgets.readthedocs.io/en/stable/user_install.html\">Jupyter\n",
       "  Widgets Documentation</a> for setup instructions.\n",
       "</p>\n",
       "<p>\n",
       "  If you're reading this message in another notebook frontend (for example, a static\n",
       "  rendering on GitHub or <a href=\"https://nbviewer.jupyter.org/\">NBViewer</a>),\n",
       "  it may mean that your frontend doesn't currently support widgets.\n",
       "</p>\n"
      ],
      "text/plain": [
       "FigureCanvasNbAgg()"
      ]
     },
     "metadata": {},
     "output_type": "display_data"
    }
   ],
   "source": [
    "exp_name = '2018_05_08_15_04_02_rb-loading-cs'\n",
    "if exp_name:\n",
    "    exp_date = '_'.join(exp_name.split('_')[:3])\n",
    "    experiment_file = os.path.join(exp_date, exp_name, 'results.hdf5')\n",
    "else:\n",
    "    experiment_file = ''\n",
    "q = qdp.QDP(base_data_path=dp)\n",
    "q.load_data_file(experiment_file)\n",
    "print \"ivars: {}\".format(q.experiments[0]['variable_list'])\n",
    "cs_cuts = [[141],[3]]\n",
    "rb_cuts = [[86],[3]]\n",
    "q.set_thresholds(cs_cuts, roi=0)\n",
    "q.set_thresholds(rb_cuts, roi=1)\n",
    "retention = q.apply_thresholds(exclude_rois=[2])\n",
    "cuts = q.get_thresholds()\n",
    "roi_map = ['cs', 'rb']\n",
    "entries = np.product(retention['retention'].shape[:-1])\n",
    "tbl_str = \"ivar: {0:.4f}\\tcloading: {1:.3f}\\trloading: {2:.3f}\\t\\tcretention: {3:.3f} +- {4:.3f}\\trretention: {5:.3f} +- {6:.3f}\"\n",
    "for i in range(entries):\n",
    "    print(tbl_str.format(\n",
    "        retention['ivar'].reshape((entries,-1))[i][0],\n",
    "        retention['loading'].reshape((entries,-1))[i][0], retention['loading'].reshape((entries,-1))[i][1],\n",
    "        retention['retention'].reshape((entries,-1))[i][0], retention['error'].reshape((entries,-1))[i][0],\n",
    "        retention['retention'].reshape((entries,-1))[i][1], retention['error'].reshape((entries,-1))[i][1]\n",
    "    ))\n",
    "q.save_experiment_data()\n",
    "xlab = q.experiments[0]['variable_desc'][q.experiments[0]['variable_list'][0]]['description']\n",
    "fig, ax = plt.subplots()\n",
    "for e in range(len(retention['ivar'])):\n",
    "    ax.plot(retention['ivar'][e, :, 0], retention['loading'][e, :, 0], 'bo')\n",
    "    ax.plot(retention['ivar'][e, :, 0], retention['loading'][e, :, 1], 'rx')\n",
    "ax.set_ylim(0, 1.05*np.max(retention['loading']))\n",
    "ax.set_xlabel(xlab)\n",
    "ax.set_ylabel('loading')\n",
    "\n",
    "fmts = ['pdf', 'png']\n",
    "fn = os.path.join(dp, q.experiments[0]['source_path'], 'loading_scan.{}')\n",
    "for fmt in fmts:\n",
    "    fig.savefig(fn.format(fmt), dpi=200, format=fmt)"
   ]
  },
  {
   "cell_type": "code",
   "execution_count": null,
   "metadata": {},
   "outputs": [],
   "source": []
  }
 ],
 "metadata": {
  "kernelspec": {
   "display_name": "Python 2",
   "language": "python",
   "name": "python2"
  },
  "language_info": {
   "codemirror_mode": {
    "name": "ipython",
    "version": 2
   },
   "file_extension": ".py",
   "mimetype": "text/x-python",
   "name": "python",
   "nbconvert_exporter": "python",
   "pygments_lexer": "ipython2",
   "version": "2.7.6"
  }
 },
 "nbformat": 4,
 "nbformat_minor": 2
}
