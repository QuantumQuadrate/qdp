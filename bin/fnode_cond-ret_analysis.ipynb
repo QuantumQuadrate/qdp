{
 "cells": [
  {
   "cell_type": "code",
   "execution_count": 2,
   "metadata": {},
   "outputs": [],
   "source": [
    "%matplotlib ipympl\n",
    "from QDP import qdp\n",
    "import numpy as np\n",
    "import matplotlib.pyplot as plt\n",
    "import os.path\n",
    "dp = '/home/ebert/jupyter-notebooks/FNode-data'"
   ]
  },
  {
   "cell_type": "code",
   "execution_count": 44,
   "metadata": {
    "scrolled": false
   },
   "outputs": [
    {
     "name": "stdout",
     "output_type": "stream",
     "text": [
      "problem analyzing timeseries data in iteration.\n",
      "ivars: []\n",
      "ivar:\t0.0\tretention:[ 0.85115601  0.74521073] +- [        nan  0.01134164]\n",
      "Only one iteration\n"
     ]
    },
    {
     "data": {
      "application/vnd.jupyter.widget-view+json": {
       "model_id": "499fb8d0429c4c10810dbed4918922f1",
       "version_major": 2,
       "version_minor": 0
      },
      "text/html": [
       "<p>Failed to display Jupyter Widget of type <code>FigureCanvasNbAgg</code>.</p>\n",
       "<p>\n",
       "  If you're reading this message in Jupyter Notebook or JupyterLab, it may mean\n",
       "  that the widgets JavaScript is still loading. If this message persists, it\n",
       "  likely means that the widgets JavaScript library is either not installed or\n",
       "  not enabled. See the <a href=\"https://ipywidgets.readthedocs.io/en/stable/user_install.html\">Jupyter\n",
       "  Widgets Documentation</a> for setup instructions.\n",
       "</p>\n",
       "<p>\n",
       "  If you're reading this message in another notebook frontend (for example, a static\n",
       "  rendering on GitHub or <a href=\"https://nbviewer.jupyter.org/\">NBViewer</a>),\n",
       "  it may mean that your frontend doesn't currently support widgets.\n",
       "</p>\n"
      ],
      "text/plain": [
       "FigureCanvasNbAgg()"
      ]
     },
     "metadata": {},
     "output_type": "display_data"
    }
   ],
   "source": [
    "exp_name = '2018_04_30_17_11_26_cs-rb-load-collision-test'\n",
    "if exp_name:\n",
    "    exp_date = '_'.join(exp_name.split('_')[:3])\n",
    "    experiment_file = os.path.join(exp_date, exp_name, 'results.hdf5')\n",
    "else:\n",
    "    experiment_file = ''\n",
    "q = qdp.QDP(base_data_path=dp)\n",
    "q.load_data_file(experiment_file)\n",
    "print \"ivars: {}\".format(q.experiments[0]['variable_list'])\n",
    "roi_map = ['cs', 'rb']\n",
    "cs_cuts = [[31],[2]]\n",
    "rb_cuts = [[42],[3]]\n",
    "q.set_thresholds(cs_cuts, roi=0)\n",
    "q.set_thresholds(rb_cuts, roi=1)\n",
    "retention = q.apply_thresholds()\n",
    "tbl_str = \"ivar:\\t{0}\\tretention:{1} +- {2}\"\n",
    "entries = np.product(retention['retention'].shape[:-1])\n",
    "for i in range(entries):\n",
    "    print(tbl_str.format(\n",
    "        retention['ivar'].reshape((entries,-1))[i][0],\n",
    "        retention['retention'].reshape((entries,-1))[i],\n",
    "        retention['error'].reshape((entries,-1))[i]\n",
    "    ))\n",
    "# q.save_experiment_data()\n",
    "q.experiments[0]['variable_list']\n",
    "try:\n",
    "    xlab = q.experiments[0]['variable_desc'][q.experiments[0]['variable_list'][0]]['description']\n",
    "except IndexError:\n",
    "    print(\"Only one iteration\")\n",
    "    xlab = ''\n",
    "\n",
    "fig, ax = plt.subplots()\n",
    "for e in range(len(retention['ivar'])):\n",
    "    for r in range(2):\n",
    "        ax.errorbar(\n",
    "            retention['ivar'][e, :, r], retention['retention'][e, :, r],\n",
    "            yerr=retention['error'][e, :, r],\n",
    "            fmt=['bo','rx'][r]\n",
    "        )\n",
    "ax.set_ylim(0, 1.01)\n",
    "ax.set_xlabel(xlab)\n",
    "ax.set_ylabel('F=4(2) pop.')\n",
    "\n",
    "fmts = ['pdf', 'png']\n",
    "fn = os.path.join(dp, q.experiments[0]['source_path'], 'retention_scan.{}')\n",
    "for fmt in fmts:\n",
    "    fig.savefig(fn.format(fmt), dpi=200, format=fmt)"
   ]
  },
  {
   "cell_type": "code",
   "execution_count": 47,
   "metadata": {},
   "outputs": [],
   "source": [
    "qd = q.experiments[0]['iterations'][0]['quantized_data']"
   ]
  },
  {
   "cell_type": "code",
   "execution_count": 53,
   "metadata": {},
   "outputs": [],
   "source": [
    "dual_load = np.logical_and(qd[:,0,0], qd[:,0,1])\n",
    "cs_only = np.logical_and(qd[:,0,0], np.logical_not(qd[:,0,1]))\n",
    "rb_only = np.logical_and(np.logical_not(qd[:,0,0]), qd[:,0,1])"
   ]
  },
  {
   "cell_type": "code",
   "execution_count": 54,
   "metadata": {},
   "outputs": [
    {
     "name": "stdout",
     "output_type": "stream",
     "text": [
      "[ 0.77419355  0.60645161]\n",
      "[ 0.85164208  0.00541928]\n",
      "[ 0.01349831  0.76940382]\n"
     ]
    }
   ],
   "source": [
    "print(np.mean(qd[dual_load,1], axis=0))\n",
    "print(np.mean(qd[cs_only,1], axis=0))\n",
    "print(np.mean(qd[rb_only,1], axis=0))"
   ]
  },
  {
   "cell_type": "code",
   "execution_count": 51,
   "metadata": {},
   "outputs": [
    {
     "data": {
      "text/plain": [
       "155"
      ]
     },
     "execution_count": 51,
     "metadata": {},
     "output_type": "execute_result"
    }
   ],
   "source": [
    "sum(dual_load)"
   ]
  },
  {
   "cell_type": "code",
   "execution_count": null,
   "metadata": {},
   "outputs": [],
   "source": []
  }
 ],
 "metadata": {
  "kernelspec": {
   "display_name": "Python 2",
   "language": "python",
   "name": "python2"
  },
  "language_info": {
   "codemirror_mode": {
    "name": "ipython",
    "version": 2
   },
   "file_extension": ".py",
   "mimetype": "text/x-python",
   "name": "python",
   "nbconvert_exporter": "python",
   "pygments_lexer": "ipython2",
   "version": "2.7.6"
  }
 },
 "nbformat": 4,
 "nbformat_minor": 2
}
