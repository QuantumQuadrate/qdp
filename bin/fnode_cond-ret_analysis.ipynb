{
 "cells": [
  {
   "cell_type": "code",
   "execution_count": 741,
   "metadata": {},
   "outputs": [],
   "source": [
    "%matplotlib ipympl\n",
    "from QDP import qdp\n",
    "import numpy as np\n",
    "import matplotlib.pyplot as plt\n",
    "import os.path\n",
    "dp = '/home/ebert/jupyter-notebooks/FNode-data'\n",
    "exclude = [2]\n",
    "drop_itr = [0,1,2,3,4,5]"
   ]
  },
  {
   "cell_type": "code",
   "execution_count": 705,
   "metadata": {
    "scrolled": false
   },
   "outputs": [
    {
     "name": "stdout",
     "output_type": "stream",
     "text": [
      "data at: 2018_07_19/2018_07_19_20_35_41_csrb-collisions-31-hd/results.hdf5\n",
      "name 'fort_exp' is not defined\n",
      "name 'rb_uwave_freq' is not defined\n",
      "ivars: [u'gap_time']\n",
      "ivar:\t8.5\tretention:[ 0.73639456  0.84636872         nan] +- [ 0.01133337  0.01133337  0.01133337]\n",
      "ivar:\t30.0\tretention:[ 0.65366615  0.78350515         nan] +- [ 0.01329247  0.01329247  0.01329247]\n",
      "ivar:\t60.0\tretention:[ 0.62919897  0.79112754         nan] +- [ 0.0146981  0.0146981  0.0146981]\n",
      "ivar:\t120.0\tretention:[ 0.65696784  0.85215054         nan] +- [ 0.01547721  0.01547721  0.01547721]\n",
      "ivar:\t300.0\tretention:[ 0.53989362  0.84730539         nan] +- [ 0.01170414  0.01170414  0.01170414]\n",
      "ivar:\t600.0\tretention:[ 0.64516129  0.80763583        -inf] +- [ 0.01270259  0.01270259  0.01270259]\n",
      "ivar:\t1200.0\tretention:[ 0.66430595  0.75              -inf] +- [ 0.01396504  0.01396504  0.01396504]\n"
     ]
    },
    {
     "data": {
      "application/vnd.jupyter.widget-view+json": {
       "model_id": "",
       "version_major": 2,
       "version_minor": 0
      },
      "text/html": [
       "<p>Failed to display Jupyter Widget of type <code>FigureCanvasNbAgg</code>.</p>\n",
       "<p>\n",
       "  If you're reading this message in Jupyter Notebook or JupyterLab, it may mean\n",
       "  that the widgets JavaScript is still loading. If this message persists, it\n",
       "  likely means that the widgets JavaScript library is either not installed or\n",
       "  not enabled. See the <a href=\"https://ipywidgets.readthedocs.io/en/stable/user_install.html\">Jupyter\n",
       "  Widgets Documentation</a> for setup instructions.\n",
       "</p>\n",
       "<p>\n",
       "  If you're reading this message in another notebook frontend (for example, a static\n",
       "  rendering on GitHub or <a href=\"https://nbviewer.jupyter.org/\">NBViewer</a>),\n",
       "  it may mean that your frontend doesn't currently support widgets.\n",
       "</p>\n"
      ],
      "text/plain": [
       "FigureCanvasNbAgg()"
      ]
     },
     "metadata": {},
     "output_type": "display_data"
    }
   ],
   "source": [
    "exp_name = '2018_07_19_20_35_41_csrb-collisions-31-hd'\n",
    "if exp_name:\n",
    "    exp_date = '_'.join(exp_name.split('_')[:3])\n",
    "    experiment_file = os.path.join(exp_date, exp_name, 'results.hdf5')\n",
    "else:\n",
    "    experiment_file = ''\n",
    "q = qdp.QDP(base_data_path=dp)\n",
    "q.load_data_file(experiment_file)\n",
    "print \"ivars: {}\".format(q.experiments[0]['variable_list'])\n",
    "roi_map = ['cs', 'rb']\n",
    "cs_cuts = [[23],[3]]\n",
    "rb_cuts = [[23],[3]]\n",
    "q.set_thresholds(cs_cuts, roi=0)\n",
    "q.set_thresholds(rb_cuts, roi=1)\n",
    "retention = q.apply_thresholds(exclude_rois=exclude)\n",
    "tbl_str = \"ivar:\\t{0}\\tretention:{1} +- {2}\"\n",
    "entries = np.product(retention['retention'].shape[:-1])\n",
    "for i in range(entries):\n",
    "    print(tbl_str.format(\n",
    "        retention['ivar'].reshape((entries,-1))[i][0],\n",
    "        retention['retention'].reshape((entries,-1))[i],\n",
    "        retention['error'].reshape((entries,-1))[i]\n",
    "    ))\n",
    "# q.save_experiment_data()\n",
    "q.experiments[0]['variable_list']\n",
    "try:\n",
    "    xlab = q.experiments[0]['variable_desc'][q.experiments[0]['variable_list'][0]]['description']\n",
    "except IndexError:\n",
    "    print(\"Only one iteration\")\n",
    "    xlab = ''\n",
    "\n",
    "fig, ax = plt.subplots()\n",
    "for e in range(len(retention['ivar'])):\n",
    "    for r in range(2):\n",
    "        ax.errorbar(\n",
    "            retention['ivar'][e, :, r], retention['retention'][e, :, r],\n",
    "            yerr=retention['error'][e, :, r],\n",
    "            fmt=['bo','rx'][r]\n",
    "        )\n",
    "ax.set_ylim(0, 1.01)\n",
    "ax.set_xlabel(xlab)\n",
    "ax.set_ylabel('F=4(2) pop.')\n",
    "\n",
    "fmts = ['pdf', 'png']\n",
    "fn = os.path.join(dp, q.experiments[0]['source_path'], 'retention_scan.{}')\n",
    "for fmt in fmts:\n",
    "    fig.savefig(fn.format(fmt), dpi=200, format=fmt)"
   ]
  },
  {
   "cell_type": "code",
   "execution_count": 742,
   "metadata": {},
   "outputs": [
    {
     "name": "stdout",
     "output_type": "stream",
     "text": [
      "Skipping iteration: 0\n",
      "Skipping iteration: 1\n",
      "Skipping iteration: 2\n",
      "Skipping iteration: 3\n",
      "Skipping iteration: 4\n",
      "Skipping iteration: 5\n",
      "--------------------\n",
      "--------------------\n",
      "--------------------\n",
      "--------------------\n",
      "On entry to DGESDD parameter number 5 had an illegal value\n",
      "There may be some issue with your guess: `[  3.70485993e-18   0.00000000e+00   0.00000000e+00]`\n",
      "--------------------\n",
      "On entry to DGESDD parameter number 5 had an illegal value\n",
      "There may be some issue with your guess: `[  3.70485993e-18   0.00000000e+00   0.00000000e+00]`\n",
      "--------------------\n",
      "{0: [[33], [2]], 1: [[32], [4]]}\n",
      "147\n"
     ]
    },
    {
     "name": "stderr",
     "output_type": "stream",
     "text": [
      "/usr/local/lib/python2.7/dist-packages/ipykernel_launcher.py:40: RuntimeWarning: overflow encountered in multiply\n",
      "/usr/local/lib/python2.7/dist-packages/ipykernel_launcher.py:40: RuntimeWarning: invalid value encountered in sqrt\n"
     ]
    }
   ],
   "source": [
    "dual_data = np.zeros((2, len(q.experiments[0]['iterations'].keys()) - len(drop_itr)))\n",
    "indv_data = np.zeros((2, len(q.experiments[0]['iterations'].keys()) - len(drop_itr)))\n",
    "dual_err = np.zeros((2, len(q.experiments[0]['iterations'].keys()) - len(drop_itr)))\n",
    "indv_err = np.zeros((2, len(q.experiments[0]['iterations'].keys()) - len(drop_itr)))\n",
    "dual_ret_data = []\n",
    "j = 0\n",
    "\n",
    "for i in q.experiments[0]['iterations'].keys():\n",
    "    if i in drop_itr:\n",
    "        print('Skipping iteration: {}'.format(i))\n",
    "        j += 1\n",
    "        continue\n",
    "    results = q.generate_thresholds(itr=i, loss=False)\n",
    "    itr_cuts = {\n",
    "        0: q.get_thresholds()[0],\n",
    "        1: q.get_thresholds()[1]\n",
    "    }\n",
    "    print(itr_cuts)\n",
    "    q.apply_thresholds(exclude_rois=exclude)\n",
    "    qd = q.experiments[0]['iterations'][i]['quantized_data']\n",
    "    dual_load = np.logical_and(qd[:,0,0], qd[:,0,1])\n",
    "    print(np.sum(dual_load))\n",
    "    cs_only = np.logical_and(qd[:,0,0], np.logical_not(qd[:,0,1]))\n",
    "    rb_only = np.logical_and(np.logical_not(qd[:,0,0]), qd[:,0,1])\n",
    "    dual_ret =  np.mean(qd[dual_load,1], axis=0)[:2]\n",
    "    cs_ret = np.mean(qd[cs_only,1], axis=0)[:2]\n",
    "    rb_ret = np.mean(qd[rb_only,1], axis=0)[:2]\n",
    "    \n",
    "    dual_ret_data.append(qd[dual_load,1])\n",
    "\n",
    "    dual_data[:, i-j] = dual_ret\n",
    "    indv_data[0, i-j] = cs_ret[0]\n",
    "    indv_data[1, i-j] = rb_ret[1]\n",
    "\n",
    "    n_dual = sum(dual_load)\n",
    "    n_cs = sum(cs_only)\n",
    "    n_rb = sum(rb_only)\n",
    "\n",
    "    def binomial_err(n, p):\n",
    "        return np.sqrt(p*(1-p)/n)\n",
    "\n",
    "    dual_err[:, i-j] = binomial_err(n_dual, np.mean(qd[dual_load,1], axis=0))[:2]\n",
    "    cs_err = binomial_err(n_cs, np.mean(qd[cs_only,1], axis=0))[0]\n",
    "    rb_err = binomial_err(n_rb, np.mean(qd[rb_only,1], axis=0))[1]\n",
    "    indv_err[0, i-j] = cs_err\n",
    "    indv_err[1, i-j] = rb_err"
   ]
  },
  {
   "cell_type": "code",
   "execution_count": 743,
   "metadata": {},
   "outputs": [
    {
     "data": {
      "text/plain": [
       "array([[ 0.74829932],\n",
       "       [ 0.84353741]])"
      ]
     },
     "execution_count": 743,
     "metadata": {},
     "output_type": "execute_result"
    }
   ],
   "source": [
    "dual_data"
   ]
  },
  {
   "cell_type": "code",
   "execution_count": 744,
   "metadata": {},
   "outputs": [
    {
     "data": {
      "text/plain": [
       "array([[ 0.86078886],\n",
       "       [ 0.84529148]])"
      ]
     },
     "execution_count": 744,
     "metadata": {},
     "output_type": "execute_result"
    }
   ],
   "source": [
    "indv_data"
   ]
  },
  {
   "cell_type": "code",
   "execution_count": 745,
   "metadata": {},
   "outputs": [
    {
     "data": {
      "application/vnd.jupyter.widget-view+json": {
       "model_id": "4750ac78d76b4efa818af3580c7709d3",
       "version_major": 2,
       "version_minor": 0
      },
      "text/html": [
       "<p>Failed to display Jupyter Widget of type <code>FigureCanvasNbAgg</code>.</p>\n",
       "<p>\n",
       "  If you're reading this message in Jupyter Notebook or JupyterLab, it may mean\n",
       "  that the widgets JavaScript is still loading. If this message persists, it\n",
       "  likely means that the widgets JavaScript library is either not installed or\n",
       "  not enabled. See the <a href=\"https://ipywidgets.readthedocs.io/en/stable/user_install.html\">Jupyter\n",
       "  Widgets Documentation</a> for setup instructions.\n",
       "</p>\n",
       "<p>\n",
       "  If you're reading this message in another notebook frontend (for example, a static\n",
       "  rendering on GitHub or <a href=\"https://nbviewer.jupyter.org/\">NBViewer</a>),\n",
       "  it may mean that your frontend doesn't currently support widgets.\n",
       "</p>\n"
      ],
      "text/plain": [
       "FigureCanvasNbAgg()"
      ]
     },
     "metadata": {},
     "output_type": "display_data"
    },
    {
     "name": "stdout",
     "output_type": "stream",
     "text": [
      "[0.860788863109,0.0166742640558,0.748299319728,0.0357949040403]\n",
      "[0.845291479821,0.0171235155465,0.843537414966,0.0299639289403]\n"
     ]
    }
   ],
   "source": [
    "fig, ax = plt.subplots(ncols=2)\n",
    "for r in range(2):\n",
    "    ax[r].errorbar(\n",
    "        np.arange(dual_data.shape[1]), dual_data[r],\n",
    "        yerr=dual_err[r],\n",
    "        fmt=['bo','rx'][r],\n",
    "        label=['cs(rb)', 'rb(cs)'][r]\n",
    "    )\n",
    "    ax[r].errorbar(\n",
    "        0.2+np.arange(dual_data.shape[1]), indv_data[r],\n",
    "        yerr=indv_err[r],\n",
    "        fmt=['cs','yd'][r],\n",
    "        label=['cs(!rb)', 'rb(!cs)'][r]\n",
    "    )\n",
    "    # plot weighted means\n",
    "    indv_wmean = np.dot(indv_data[r], np.power(indv_err[r], -2))/np.sum(np.power(indv_err[r], -2))\n",
    "    indv_stderr = np.sqrt(np.sum(np.power(indv_err[r], 2)))/dual_data.shape[1]\n",
    "    dual_wmean = np.dot(dual_data[r], np.power(dual_err[r], -2))/np.sum(np.power(dual_err[r], -2))\n",
    "    dual_stderr = np.sqrt(np.sum(np.power(dual_err[r], 2)))/dual_data.shape[1]\n",
    "    print (\"[{},{},{},{}]\".format(indv_wmean, indv_stderr, dual_wmean, dual_stderr))\n",
    "    ax[r].axhline(indv_wmean, color='cy'[r], alpha=0.5, lw=3)\n",
    "    ax[r].axhline(dual_wmean, color='br'[r], alpha=0.5, lw=3)\n",
    "    # plot uncertainty of the mean\n",
    "    ax[r].fill_between([0, dual_data.shape[1]], indv_wmean-indv_stderr, indv_wmean+indv_stderr, facecolor='cy'[r], alpha=0.2)\n",
    "    ax[r].fill_between([0, dual_data.shape[1]], dual_wmean-dual_stderr, dual_wmean+dual_stderr, facecolor='br'[r], alpha=0.2)\n",
    "    \n",
    "    ax[r].set_xlabel(xlab)\n",
    "    ax[r].legend(bbox_to_anchor=(0.95, 0.15), loc=1, borderaxespad=0.)\n",
    "    ax[r].set_ylim(0., 1)\n",
    "ax[0].set_ylabel('Retention')\n",
    "\n",
    "fmts = ['pdf', 'png']\n",
    "fn = os.path.join(dp, q.experiments[0]['source_path'], 'dual_retention_stability.{}')\n",
    "for fmt in fmts:\n",
    "    fig.savefig(fn.format(fmt), dpi=200, format=fmt)"
   ]
  },
  {
   "cell_type": "code",
   "execution_count": 746,
   "metadata": {},
   "outputs": [],
   "source": [
    "ps = np.zeros((2,2))\n",
    "n = 0\n",
    "for itr in dual_ret_data:\n",
    "    n += len(itr)\n",
    "    ps[1,1] += np.sum(np.logical_and(itr[:,0], itr[:,1]))  # both atoms retained\n",
    "    ps[0,0] += np.sum(np.logical_and(np.logical_not(itr[:,0]), np.logical_not(itr[:,1])))  # both atoms lost\n",
    "    ps[0,1] += np.sum(np.logical_and(np.logical_not(itr[:,0]), itr[:,1]))  # cs only lost\n",
    "    ps[1,0] += np.sum(np.logical_and(itr[:,0], np.logical_not(itr[:,1])))  # cs only lost\n",
    "ps = ps.astype('float')/n"
   ]
  },
  {
   "cell_type": "code",
   "execution_count": 747,
   "metadata": {},
   "outputs": [
    {
     "name": "stdout",
     "output_type": "stream",
     "text": [
      "[[0.102040816327,0.149659863946],[0.0544217687075,0.69387755102]]\n"
     ]
    }
   ],
   "source": [
    "print('['+','.join(['[{},{}]'.format(ps[i][0],ps[i][1]) for i in range(2)])+']')"
   ]
  },
  {
   "cell_type": "code",
   "execution_count": 748,
   "metadata": {},
   "outputs": [
    {
     "name": "stdout",
     "output_type": "stream",
     "text": [
      "[[0.0249664384425,0.0294232298746],[0.0187101121842,0.0380128420128]]\n"
     ]
    }
   ],
   "source": [
    "print('['+','.join(['[{},{}]'.format(binomial_err(n, ps)[i][0],binomial_err(n, ps)[i][1]) for i in range(2)])+']')"
   ]
  },
  {
   "cell_type": "code",
   "execution_count": 749,
   "metadata": {},
   "outputs": [
    {
     "data": {
      "text/plain": [
       "0.0048020625462823433"
      ]
     },
     "execution_count": 749,
     "metadata": {},
     "output_type": "execute_result"
    }
   ],
   "source": [
    "binomial_err(n,1./(2*n))"
   ]
  },
  {
   "cell_type": "code",
   "execution_count": null,
   "metadata": {},
   "outputs": [],
   "source": []
  }
 ],
 "metadata": {
  "kernelspec": {
   "display_name": "Python 2",
   "language": "python",
   "name": "python2"
  },
  "language_info": {
   "codemirror_mode": {
    "name": "ipython",
    "version": 2
   },
   "file_extension": ".py",
   "mimetype": "text/x-python",
   "name": "python",
   "nbconvert_exporter": "python",
   "pygments_lexer": "ipython2",
   "version": "2.7.6"
  }
 },
 "nbformat": 4,
 "nbformat_minor": 2
}
