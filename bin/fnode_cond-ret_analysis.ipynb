{
 "cells": [
  {
   "cell_type": "code",
   "execution_count": 1,
   "metadata": {},
   "outputs": [],
   "source": [
    "%matplotlib ipympl\n",
    "from QDP import qdp\n",
    "import numpy as np\n",
    "import matplotlib.pyplot as plt\n",
    "import os.path\n",
    "dp = '/home/ebert/jupyter-notebooks/FNode-data'"
   ]
  },
  {
   "cell_type": "code",
   "execution_count": 7,
   "metadata": {
    "scrolled": false
   },
   "outputs": [
    {
     "name": "stdout",
     "output_type": "stream",
     "text": [
      "data at: 2018_05_09/2018_05_09_12_47_51_collisionak-retention-24ms/results.hdf5\n",
      "name 'fort_exp' is not defined\n",
      "name 'rb_uwave_freq' is not defined\n",
      "ivars: [u'iterator']\n",
      "no loading observed\n",
      "no loading observed\n",
      "no loading observed\n",
      "no loading observed\n",
      "ivar:\t0.0\tretention:[ 0.96052632  0.85641026         nan] +- [ 0.01219328  0.01219328  0.01219328]\n",
      "ivar:\t1.0\tretention:[ 0.95148248  0.85454545         inf] +- [ 0.01154131  0.01154131  0.01154131]\n",
      "ivar:\t2.0\tretention:[ 0.97039474  0.88693098         nan] +- [ 0.01020561  0.01020561  0.01020561]\n",
      "ivar:\t3.0\tretention:[ 0.9443038   0.90086207         inf] +- [ 0.00952666  0.00952666  0.00952666]\n",
      "ivar:\t4.0\tretention:[ 0.94524496  0.84745763         inf] +- [ 0.01391808  0.01391808  0.01391808]\n"
     ]
    },
    {
     "data": {
      "application/vnd.jupyter.widget-view+json": {
       "model_id": "8b0048a8c079427d9467ad00f06ca907",
       "version_major": 2,
       "version_minor": 0
      },
      "text/html": [
       "<p>Failed to display Jupyter Widget of type <code>FigureCanvasNbAgg</code>.</p>\n",
       "<p>\n",
       "  If you're reading this message in Jupyter Notebook or JupyterLab, it may mean\n",
       "  that the widgets JavaScript is still loading. If this message persists, it\n",
       "  likely means that the widgets JavaScript library is either not installed or\n",
       "  not enabled. See the <a href=\"https://ipywidgets.readthedocs.io/en/stable/user_install.html\">Jupyter\n",
       "  Widgets Documentation</a> for setup instructions.\n",
       "</p>\n",
       "<p>\n",
       "  If you're reading this message in another notebook frontend (for example, a static\n",
       "  rendering on GitHub or <a href=\"https://nbviewer.jupyter.org/\">NBViewer</a>),\n",
       "  it may mean that your frontend doesn't currently support widgets.\n",
       "</p>\n"
      ],
      "text/plain": [
       "FigureCanvasNbAgg()"
      ]
     },
     "metadata": {},
     "output_type": "display_data"
    }
   ],
   "source": [
    "exp_name = ''\n",
    "if exp_name:\n",
    "    exp_date = '_'.join(exp_name.split('_')[:3])\n",
    "    experiment_file = os.path.join(exp_date, exp_name, 'results.hdf5')\n",
    "else:\n",
    "    experiment_file = ''\n",
    "q = qdp.QDP(base_data_path=dp)\n",
    "q.load_data_file(experiment_file)\n",
    "print \"ivars: {}\".format(q.experiments[0]['variable_list'])\n",
    "roi_map = ['cs', 'rb']\n",
    "cs_cuts = [[150],[3]]\n",
    "rb_cuts = [[98],[3]]\n",
    "q.set_thresholds(cs_cuts, roi=0)\n",
    "q.set_thresholds(rb_cuts, roi=1)\n",
    "retention = q.apply_thresholds(exclude_rois=[2])\n",
    "tbl_str = \"ivar:\\t{0}\\tretention:{1} +- {2}\"\n",
    "entries = np.product(retention['retention'].shape[:-1])\n",
    "for i in range(entries):\n",
    "    print(tbl_str.format(\n",
    "        retention['ivar'].reshape((entries,-1))[i][0],\n",
    "        retention['retention'].reshape((entries,-1))[i],\n",
    "        retention['error'].reshape((entries,-1))[i]\n",
    "    ))\n",
    "# q.save_experiment_data()\n",
    "q.experiments[0]['variable_list']\n",
    "try:\n",
    "    xlab = q.experiments[0]['variable_desc'][q.experiments[0]['variable_list'][0]]['description']\n",
    "except IndexError:\n",
    "    print(\"Only one iteration\")\n",
    "    xlab = ''\n",
    "\n",
    "fig, ax = plt.subplots()\n",
    "for e in range(len(retention['ivar'])):\n",
    "    for r in range(2):\n",
    "        ax.errorbar(\n",
    "            retention['ivar'][e, :, r], retention['retention'][e, :, r],\n",
    "            yerr=retention['error'][e, :, r],\n",
    "            fmt=['bo','rx'][r]\n",
    "        )\n",
    "ax.set_ylim(0, 1.01)\n",
    "ax.set_xlabel(xlab)\n",
    "ax.set_ylabel('F=4(2) pop.')\n",
    "\n",
    "fmts = ['pdf', 'png']\n",
    "fn = os.path.join(dp, q.experiments[0]['source_path'], 'retention_scan.{}')\n",
    "for fmt in fmts:\n",
    "    fig.savefig(fn.format(fmt), dpi=200, format=fmt)"
   ]
  },
  {
   "cell_type": "code",
   "execution_count": 8,
   "metadata": {},
   "outputs": [
    {
     "name": "stderr",
     "output_type": "stream",
     "text": [
      "/usr/local/lib/python2.7/dist-packages/scipy/optimize/minpack.py:785: OptimizeWarning: Covariance of the parameters could not be estimated\n",
      "  category=OptimizeWarning)\n"
     ]
    },
    {
     "name": "stdout",
     "output_type": "stream",
     "text": [
      "On entry to DGESDD parameter number 5 had an illegal value\n",
      "There may be some issue with your guess: `[  1.33200123e-18   0.00000000e+00   0.00000000e+00]`\n",
      "{0: [[143], [3]], 1: [[80], [3]]}\n",
      "no loading observed\n",
      "no loading observed\n",
      "no loading observed\n",
      "143\n"
     ]
    },
    {
     "name": "stderr",
     "output_type": "stream",
     "text": [
      "/usr/local/lib/python2.7/dist-packages/ipykernel_launcher.py:33: RuntimeWarning: invalid value encountered in sqrt\n"
     ]
    },
    {
     "name": "stdout",
     "output_type": "stream",
     "text": [
      "On entry to DGESDD parameter number 5 had an illegal value\n",
      "There may be some issue with your guess: `[  1.33200123e-18   0.00000000e+00   0.00000000e+00]`\n",
      "On entry to DGESDD parameter number 5 had an illegal value\n",
      "There may be some issue with your guess: `[  1.33200123e-18   0.00000000e+00   0.00000000e+00]`\n",
      "{0: [[121], [2]], 1: [[81], [3]]}\n",
      "no loading observed\n",
      "no loading observed\n",
      "no loading observed\n",
      "no loading observed\n",
      "158\n",
      "On entry to DGESDD parameter number 5 had an illegal value\n",
      "There may be some issue with your guess: `[  1.33200123e-18   0.00000000e+00   0.00000000e+00]`\n",
      "On entry to DGESDD parameter number 5 had an illegal value\n",
      "There may be some issue with your guess: `[  1.33200123e-18   0.00000000e+00   0.00000000e+00]`\n",
      "{0: [[129], [3]], 1: [[84], [3]]}\n",
      "no loading observed\n",
      "no loading observed\n",
      "no loading observed\n",
      "no loading observed\n",
      "130\n",
      "On entry to DGESDD parameter number 5 had an illegal value\n",
      "There may be some issue with your guess: `[  1.33200123e-18   0.00000000e+00   0.00000000e+00]`\n",
      "On entry to DGESDD parameter number 5 had an illegal value\n",
      "There may be some issue with your guess: `[  1.33200123e-18   0.00000000e+00   0.00000000e+00]`\n",
      "{0: [[118], [3]], 1: [[82], [3]]}\n",
      "no loading observed\n",
      "no loading observed\n",
      "no loading observed\n",
      "no loading observed\n",
      "148\n",
      "On entry to DGESDD parameter number 5 had an illegal value\n",
      "There may be some issue with your guess: `[  1.33200123e-18   0.00000000e+00   0.00000000e+00]`\n",
      "{0: [[113], [3]], 1: [[80], [3]]}\n",
      "no loading observed\n",
      "no loading observed\n",
      "no loading observed\n",
      "no loading observed\n",
      "no loading observed\n",
      "141\n"
     ]
    }
   ],
   "source": [
    "dual_data = np.zeros((2, len(q.experiments[0]['iterations'].keys())))\n",
    "indv_data = np.zeros((2, len(q.experiments[0]['iterations'].keys())))\n",
    "dual_err = np.zeros((2, len(q.experiments[0]['iterations'].keys())))\n",
    "indv_err = np.zeros((2, len(q.experiments[0]['iterations'].keys())))\n",
    "\n",
    "\n",
    "for i in q.experiments[0]['iterations'].keys():\n",
    "    results = q.generate_thresholds(itr=i)\n",
    "    itr_cuts = {\n",
    "        0: q.get_thresholds()[0],\n",
    "        1: q.get_thresholds()[1]\n",
    "    }\n",
    "    print(itr_cuts)\n",
    "    q.apply_thresholds(exclude_rois=[2])\n",
    "    qd = q.experiments[0]['iterations'][i]['quantized_data']\n",
    "    dual_load = np.logical_and(qd[:,0,0], qd[:,0,1])\n",
    "    print(np.sum(dual_load))\n",
    "    cs_only = np.logical_and(qd[:,0,0], np.logical_not(qd[:,0,1]))\n",
    "    rb_only = np.logical_and(np.logical_not(qd[:,0,0]), qd[:,0,1])\n",
    "    dual_ret =  np.mean(qd[dual_load,1], axis=0)[:2]\n",
    "    cs_ret = np.mean(qd[cs_only,1], axis=0)[:2]\n",
    "    rb_ret = np.mean(qd[rb_only,1], axis=0)[:2]\n",
    "    \n",
    "    dual_data[:, i] = dual_ret\n",
    "    indv_data[0, i] = cs_ret[0]\n",
    "    indv_data[1, i] = rb_ret[1]\n",
    "\n",
    "    n_dual = sum(dual_load)\n",
    "    n_cs = sum(cs_only)\n",
    "    n_rb = sum(rb_only)\n",
    "\n",
    "    def binomial_err(n, p):\n",
    "        return np.sqrt(p*(1-p)/n)\n",
    "\n",
    "    dual_err[:, i] = binomial_err(n_dual, np.mean(qd[dual_load,1], axis=0))[:2]\n",
    "    cs_err = binomial_err(n_cs, np.mean(qd[cs_only,1], axis=0))[0]\n",
    "    rb_err = binomial_err(n_rb, np.mean(qd[rb_only,1], axis=0))[1]\n",
    "    indv_err[0, i] = cs_err\n",
    "    indv_err[1, i] = rb_err"
   ]
  },
  {
   "cell_type": "code",
   "execution_count": 9,
   "metadata": {},
   "outputs": [
    {
     "data": {
      "application/vnd.jupyter.widget-view+json": {
       "model_id": "86a5b3987eed48cc9d560fbbfa2a1d55",
       "version_major": 2,
       "version_minor": 0
      },
      "text/html": [
       "<p>Failed to display Jupyter Widget of type <code>FigureCanvasNbAgg</code>.</p>\n",
       "<p>\n",
       "  If you're reading this message in Jupyter Notebook or JupyterLab, it may mean\n",
       "  that the widgets JavaScript is still loading. If this message persists, it\n",
       "  likely means that the widgets JavaScript library is either not installed or\n",
       "  not enabled. See the <a href=\"https://ipywidgets.readthedocs.io/en/stable/user_install.html\">Jupyter\n",
       "  Widgets Documentation</a> for setup instructions.\n",
       "</p>\n",
       "<p>\n",
       "  If you're reading this message in another notebook frontend (for example, a static\n",
       "  rendering on GitHub or <a href=\"https://nbviewer.jupyter.org/\">NBViewer</a>),\n",
       "  it may mean that your frontend doesn't currently support widgets.\n",
       "</p>\n"
      ],
      "text/plain": [
       "FigureCanvasNbAgg()"
      ]
     },
     "metadata": {},
     "output_type": "display_data"
    }
   ],
   "source": [
    "fig, ax = plt.subplots(ncols=2)\n",
    "for r in range(2):\n",
    "    ax[r].errorbar(\n",
    "        np.arange(dual_data.shape[1]), dual_data[r],\n",
    "        yerr=dual_err[r],\n",
    "        fmt=['bo','rx'][r],\n",
    "        label=['cs(rb)', 'rb(cs)'][r]\n",
    "    )\n",
    "    ax[r].errorbar(\n",
    "        0.2+np.arange(dual_data.shape[1]), indv_data[r],\n",
    "        yerr=indv_err[r],\n",
    "        fmt=['cs','yd'][r],\n",
    "        label=['cs(!rb)', 'rb(!cs)'][r]\n",
    "    )\n",
    "    # plot weighted means\n",
    "    indv_wmean = np.dot(indv_data[r], np.power(indv_err[r], -2))/np.sum(np.power(indv_err[r], -2))\n",
    "    indv_stderr = np.sqrt(np.sum(np.power(indv_err, 2)))/dual_data.shape[1]\n",
    "    dual_wmean = np.dot(dual_data[r], np.power(dual_err[r], -2))/np.sum(np.power(dual_err[r], -2))\n",
    "    dual_stderr = np.sqrt(np.sum(np.power(dual_err, 2)))/dual_data.shape[1]\n",
    "    ax[r].axhline(indv_wmean, color='cy'[r], alpha=0.5, lw=3)\n",
    "    ax[r].axhline(dual_wmean, color='br'[r], alpha=0.5, lw=3)\n",
    "    # plot uncertainty of the mean\n",
    "    ax[r].fill_between([0, dual_data.shape[1]], indv_wmean-indv_stderr, indv_wmean+indv_stderr, facecolor='cy'[r], alpha=0.2)\n",
    "    ax[r].fill_between([0, dual_data.shape[1]], dual_wmean-dual_stderr, dual_wmean+dual_stderr, facecolor='br'[r], alpha=0.2)\n",
    "    \n",
    "    ax[r].set_xlabel(xlab)\n",
    "    ax[r].legend(bbox_to_anchor=(0.95, 0.15), loc=1, borderaxespad=0.)\n",
    "    ax[r].set_ylim(0.75, 1)\n",
    "ax[0].set_ylabel('Retention')\n",
    "\n",
    "fmts = ['pdf', 'png']\n",
    "fn = os.path.join(dp, q.experiments[0]['source_path'], 'dual_retention_stability.{}')\n",
    "for fmt in fmts:\n",
    "    fig.savefig(fn.format(fmt), dpi=200, format=fmt)"
   ]
  },
  {
   "cell_type": "code",
   "execution_count": null,
   "metadata": {},
   "outputs": [],
   "source": []
  }
 ],
 "metadata": {
  "kernelspec": {
   "display_name": "Python 2",
   "language": "python",
   "name": "python2"
  },
  "language_info": {
   "codemirror_mode": {
    "name": "ipython",
    "version": 2
   },
   "file_extension": ".py",
   "mimetype": "text/x-python",
   "name": "python",
   "nbconvert_exporter": "python",
   "pygments_lexer": "ipython2",
   "version": "2.7.6"
  }
 },
 "nbformat": 4,
 "nbformat_minor": 2
}
