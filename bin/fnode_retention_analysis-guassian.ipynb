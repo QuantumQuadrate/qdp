{
 "cells": [
  {
   "cell_type": "code",
   "execution_count": 2,
   "metadata": {},
   "outputs": [],
   "source": [
    "%matplotlib ipympl\n",
    "from QDP import qdp\n",
    "import os.path\n",
    "import numpy as np\n",
    "from scipy.stats import poisson\n",
    "import matplotlib.pyplot as plt\n",
    "from scipy import optimize\n",
    "dp = '/home/ebert/jupyter-notebooks/FNode-data'\n",
    "exclude = [2]\n",
    "\n",
    "def gaussian(x, a, x0, s, b):\n",
    "    return b + a*np.exp(-0.5*((x-x0)/s)**2)"
   ]
  },
  {
   "cell_type": "code",
   "execution_count": 3,
   "metadata": {
    "scrolled": false
   },
   "outputs": [
    {
     "name": "stdout",
     "output_type": "stream",
     "text": [
      "name 'fort_exp' is not defined\n",
      "name 'rb_uwave_freq' is not defined\n",
      "ivars: [u'Iy_read']\n",
      "no loading observed\n",
      "no loading observed\n",
      "no loading observed\n",
      "no loading observed\n",
      "no loading observed\n",
      "no loading observed\n",
      "no loading observed\n",
      "no loading observed\n",
      "no loading observed\n",
      "no loading observed\n",
      "ivar: 0.1590\tcloading: 0.257\trloading: 0.120\t\tcretention: 0.934 +- 0.037\trretention: 0.642 +- 0.037\n",
      "ivar: 0.1990\tcloading: 0.234\trloading: 0.148\t\tcretention: 0.910 +- 0.025\trretention: 0.851 +- 0.025\n",
      "ivar: 0.2390\tcloading: 0.203\trloading: 0.139\t\tcretention: 0.926 +- 0.027\trretention: 0.820 +- 0.027\n",
      "ivar: 0.2790\tcloading: 0.308\trloading: 0.144\t\tcretention: 0.958 +- 0.028\trretention: 0.806 +- 0.028\n",
      "ivar: 0.3190\tcloading: 0.235\trloading: 0.147\t\tcretention: 0.915 +- 0.020\trretention: 0.905 +- 0.020\n",
      "ivar: 0.3590\tcloading: 0.228\trloading: 0.141\t\tcretention: 0.934 +- 0.024\trretention: 0.872 +- 0.024\n",
      "ivar: 0.3990\tcloading: 0.284\trloading: 0.178\t\tcretention: 0.838 +- 0.019\trretention: 0.893 +- 0.019\n",
      "ivar: 0.4390\tcloading: 0.302\trloading: 0.150\t\tcretention: 0.851 +- 0.019\trretention: 0.920 +- 0.019\n",
      "ivar: 0.4790\tcloading: 0.288\trloading: 0.140\t\tcretention: 0.931 +- 0.014\trretention: 0.957 +- 0.014\n",
      "ivar: 0.5190\tcloading: 0.232\trloading: 0.200\t\tcretention: 0.948 +- 0.016\trretention: 0.925 +- 0.016\n",
      "ivar: 0.5590\tcloading: 0.229\trloading: 0.194\t\tcretention: 0.921 +- 0.021\trretention: 0.866 +- 0.021\n"
     ]
    },
    {
     "data": {
      "application/vnd.jupyter.widget-view+json": {
       "model_id": "9e9a7915a9d14b2bb044d14764ca36ca",
       "version_major": 2,
       "version_minor": 0
      },
      "text/html": [
       "<p>Failed to display Jupyter Widget of type <code>FigureCanvasNbAgg</code>.</p>\n",
       "<p>\n",
       "  If you're reading this message in Jupyter Notebook or JupyterLab, it may mean\n",
       "  that the widgets JavaScript is still loading. If this message persists, it\n",
       "  likely means that the widgets JavaScript library is either not installed or\n",
       "  not enabled. See the <a href=\"https://ipywidgets.readthedocs.io/en/stable/user_install.html\">Jupyter\n",
       "  Widgets Documentation</a> for setup instructions.\n",
       "</p>\n",
       "<p>\n",
       "  If you're reading this message in another notebook frontend (for example, a static\n",
       "  rendering on GitHub or <a href=\"https://nbviewer.jupyter.org/\">NBViewer</a>),\n",
       "  it may mean that your frontend doesn't currently support widgets.\n",
       "</p>\n"
      ],
      "text/plain": [
       "FigureCanvasNbAgg()"
      ]
     },
     "metadata": {},
     "output_type": "display_data"
    },
    {
     "name": "stdout",
     "output_type": "stream",
     "text": [
      "Optimal parameters not found: Number of calls to function has reached maxfev = 1000.\n",
      "[ 141.33402298    0.4520706     5.49225684 -140.4072197 ]\n"
     ]
    }
   ],
   "source": [
    "exp_name = ''\n",
    "if exp_name:\n",
    "    exp_date = '_'.join(exp_name.split('_')[:3])\n",
    "    experiment_file = os.path.join(exp_date, exp_name, 'results.hdf5')\n",
    "else:\n",
    "    experiment_file = ''\n",
    "q = qdp.QDP(base_data_path=dp)\n",
    "q.load_data_file(experiment_file)\n",
    "print \"ivars: {}\".format(q.experiments[0]['variable_list'])\n",
    "cs_cuts = [[170],[3]]\n",
    "rb_cuts = [[110],[3]]\n",
    "q.set_thresholds(cs_cuts, roi=0)\n",
    "q.set_thresholds(rb_cuts, roi=1)\n",
    "retention = q.apply_thresholds(exclude_rois=exclude)\n",
    "cuts = q.get_thresholds()\n",
    "roi_map = ['cs', 'rb']\n",
    "fmt_map = ['bo', 'rx']\n",
    "entries = np.product(retention['retention'].shape[:-1])\n",
    "tbl_str = \"ivar: {0:.4f}\\tcloading: {1:.3f}\\trloading: {2:.3f}\\t\\tcretention: {3:.3f} +- {4:.3f}\\trretention: {5:.3f} +- {6:.3f}\"\n",
    "for i in range(entries):\n",
    "    print(tbl_str.format(\n",
    "        retention['ivar'].reshape((entries,-1))[i][0],\n",
    "        retention['loading'].reshape((entries,-1))[i][0], retention['loading'].reshape((entries,-1))[i][1],\n",
    "        retention['retention'].reshape((entries,-1))[i][0], retention['error'].reshape((entries,-1))[i][0],\n",
    "        retention['retention'].reshape((entries,-1))[i][1], retention['error'].reshape((entries,-1))[i][1]\n",
    "    ))\n",
    "q.save_experiment_data()\n",
    "xlab = q.experiments[0]['variable_desc'][q.experiments[0]['variable_list'][0]]['description']\n",
    "\n",
    "# plotting\n",
    "fig, ax = plt.subplots(nrows=2, figsize=(5,8))\n",
    "plt.subplots_adjust(wspace=0.3)\n",
    "for i, yvals in enumerate(['retention', 'loading']):\n",
    "    for e in range(len(retention['ivar'])):\n",
    "        for r in range(2):            \n",
    "            if yvals=='retention':\n",
    "                try:\n",
    "                    ax[i].errorbar(retention['ivar'][e, :, r], retention[yvals][e, :, r],\n",
    "                        yerr=retention['error'][e,:,r],\n",
    "                        fmt=fmt_map[r]\n",
    "                    )\n",
    "                except Exception as ee:\n",
    "                    print(ee)\n",
    "                    ax[i].plot(retention['ivar'][e, :, 0], retention[yvals][e, :, r], fmt_map[r])\n",
    "                # fitting\n",
    "                xs = np.linspace(min(retention['ivar'][e, :, 0]), max(retention['ivar'][e, :, 0]),100)\n",
    "                guess = [0.6, retention['ivar'][e, np.argmin(retention[yvals][e, :, r]), 0], 0.4, .0]\n",
    "                try:\n",
    "                    popt, pcov = optimize.curve_fit(\n",
    "                        gaussian,\n",
    "                        retention['ivar'][e, :, 0],\n",
    "                        retention[yvals][e, :, r],\n",
    "                        p0=guess,\n",
    "                        sigma=retention['error'][e, :, r]\n",
    "                    )\n",
    "                except Exception as ee:\n",
    "                    print ee\n",
    "                else:\n",
    "                    ax[i].plot(xs, gaussian(xs, *popt), fmt_map[r][0]+'--', alpha=0.6)\n",
    "                    print(popt)\n",
    "                    fit_data = \"{}\\na: {:.3f}\\nx0: {:.3f}\\ns: {:.3f}\\nb: {:.3f}\"\n",
    "                    start = np.min(retention['ivar'][e, :, 0])\n",
    "                    stop = np.max(retention['ivar'][e, :, 0])\n",
    "                    dx = (stop-start)/10\n",
    "                    ax[i].text(start+dx+r*5*dx, 0.5, fit_data.format(roi_map[r],*popt), fontsize=12)\n",
    "            else:\n",
    "                ax[i].plot(retention['ivar'][e, :, 0], retention[yvals][e, :, r], fmt_map[r])\n",
    "                \n",
    "        \n",
    "    ax[i].set_ylim(0.8, 1)\n",
    "    ax[i].set_xlabel(xlab)\n",
    "    ax[i].set_ylabel(yvals)\n",
    "\n",
    "fmts = ['pdf', 'png']\n",
    "fn = os.path.join(dp, q.experiments[0]['source_path'], 'loading_scan.{}')\n",
    "for fmt in fmts:\n",
    "    fig.savefig(fn.format(fmt), dpi=200, format=fmt)"
   ]
  },
  {
   "cell_type": "code",
   "execution_count": 1,
   "metadata": {
    "scrolled": false
   },
   "outputs": [
    {
     "ename": "NameError",
     "evalue": "name 'plt' is not defined",
     "output_type": "error",
     "traceback": [
      "\u001b[0;31m\u001b[0m",
      "\u001b[0;31mNameError\u001b[0mTraceback (most recent call last)",
      "\u001b[0;32m<ipython-input-1-79a8e4a4b7cf>\u001b[0m in \u001b[0;36m<module>\u001b[0;34m()\u001b[0m\n\u001b[1;32m      1\u001b[0m \u001b[0;31m# plotting\u001b[0m\u001b[0;34m\u001b[0m\u001b[0;34m\u001b[0m\u001b[0m\n\u001b[0;32m----> 2\u001b[0;31m \u001b[0mfig\u001b[0m\u001b[0;34m,\u001b[0m \u001b[0max\u001b[0m \u001b[0;34m=\u001b[0m \u001b[0mplt\u001b[0m\u001b[0;34m.\u001b[0m\u001b[0msubplots\u001b[0m\u001b[0;34m(\u001b[0m\u001b[0mnrows\u001b[0m\u001b[0;34m=\u001b[0m\u001b[0;36m2\u001b[0m\u001b[0;34m,\u001b[0m \u001b[0mfigsize\u001b[0m\u001b[0;34m=\u001b[0m\u001b[0;34m(\u001b[0m\u001b[0;36m5\u001b[0m\u001b[0;34m,\u001b[0m\u001b[0;36m8\u001b[0m\u001b[0;34m)\u001b[0m\u001b[0;34m)\u001b[0m\u001b[0;34m\u001b[0m\u001b[0m\n\u001b[0m\u001b[1;32m      3\u001b[0m \u001b[0mplt\u001b[0m\u001b[0;34m.\u001b[0m\u001b[0msubplots_adjust\u001b[0m\u001b[0;34m(\u001b[0m\u001b[0mwspace\u001b[0m\u001b[0;34m=\u001b[0m\u001b[0;36m0.3\u001b[0m\u001b[0;34m)\u001b[0m\u001b[0;34m\u001b[0m\u001b[0m\n\u001b[1;32m      4\u001b[0m \u001b[0;32mfor\u001b[0m \u001b[0mi\u001b[0m\u001b[0;34m,\u001b[0m \u001b[0myvals\u001b[0m \u001b[0;32min\u001b[0m \u001b[0menumerate\u001b[0m\u001b[0;34m(\u001b[0m\u001b[0;34m[\u001b[0m\u001b[0;34m'retention'\u001b[0m\u001b[0;34m,\u001b[0m \u001b[0;34m'loading'\u001b[0m\u001b[0;34m]\u001b[0m\u001b[0;34m)\u001b[0m\u001b[0;34m:\u001b[0m\u001b[0;34m\u001b[0m\u001b[0m\n\u001b[1;32m      5\u001b[0m     \u001b[0;32mfor\u001b[0m \u001b[0me\u001b[0m \u001b[0;32min\u001b[0m \u001b[0mrange\u001b[0m\u001b[0;34m(\u001b[0m\u001b[0mlen\u001b[0m\u001b[0;34m(\u001b[0m\u001b[0mretention\u001b[0m\u001b[0;34m[\u001b[0m\u001b[0;34m'ivar'\u001b[0m\u001b[0;34m]\u001b[0m\u001b[0;34m)\u001b[0m\u001b[0;34m)\u001b[0m\u001b[0;34m:\u001b[0m\u001b[0;34m\u001b[0m\u001b[0m\n",
      "\u001b[0;31mNameError\u001b[0m: name 'plt' is not defined"
     ]
    }
   ],
   "source": [
    "# plotting\n",
    "fig, ax = plt.subplots(nrows=2, figsize=(5,8))\n",
    "plt.subplots_adjust(wspace=0.3)\n",
    "for i, yvals in enumerate(['retention', 'loading']):\n",
    "    for e in range(len(retention['ivar'])):\n",
    "        for r in range(2):            \n",
    "            if yvals=='retention':\n",
    "                try:\n",
    "                    ax[i].errorbar(retention['ivar'][e, :, r], retention[yvals][e, :, r],\n",
    "                        yerr=retention['error'][e,:,r],\n",
    "                        fmt=fmt_map[r]\n",
    "                    )\n",
    "                except Exception as ee:\n",
    "                    print(ee)\n",
    "                    ax[i].plot(retention['ivar'][e, :, 0], retention[yvals][e, :, r], fmt_map[r])\n",
    "                # fitting\n",
    "                xs = np.linspace(min(retention['ivar'][e, :, 0]), max(retention['ivar'][e, :, 0]),100)\n",
    "                guess = [0.6, retention['ivar'][e, np.argmin(retention[yvals][e, :, r]), 0], 0.2, .6]\n",
    "                try:\n",
    "                    popt, pcov = optimize.curve_fit(\n",
    "                        gaussian,\n",
    "                        retention['ivar'][e, :, 0],\n",
    "                        retention[yvals][e, :, r],\n",
    "                        p0=guess,\n",
    "#                         sigma=retention['error'][e, :, r]\n",
    "                    )\n",
    "                except Exception as ee:\n",
    "                    print ee\n",
    "                else:\n",
    "                    ax[i].plot(xs, gaussian(xs, *popt), fmt_map[r][0]+'--', alpha=0.6)\n",
    "                    print(popt)\n",
    "                    fit_data = \"{}\\na: {:.3f}\\nx0: {:.3f}\\ns: {:.3f}\\nb: {:.3f}\"\n",
    "                    start = np.min(retention['ivar'][e, :, 0])\n",
    "                    stop = np.max(retention['ivar'][e, :, 0])\n",
    "                    dx = (stop-start)/10\n",
    "                    ax[i].text(start+dx+r*6*dx, 0.1, fit_data.format(roi_map[r],*popt), fontsize=12)\n",
    "            else:\n",
    "                ax[i].plot(retention['ivar'][e, :, 0], retention[yvals][e, :, r], fmt_map[r])\n",
    "                \n",
    "        \n",
    "    ax[i].set_ylim(0., 1.05)\n",
    "    ax[i].set_xlabel(xlab)\n",
    "    ax[i].set_ylabel(yvals)\n",
    "\n",
    "fmts = ['pdf', 'png']\n",
    "fn = os.path.join(dp, q.experiments[0]['source_path'], 'loading_scan.{}')\n",
    "for fmt in fmts:\n",
    "    fig.savefig(fn.format(fmt), dpi=200, format=fmt)"
   ]
  },
  {
   "cell_type": "code",
   "execution_count": null,
   "metadata": {},
   "outputs": [],
   "source": []
  }
 ],
 "metadata": {
  "kernelspec": {
   "display_name": "Python 2",
   "language": "python",
   "name": "python2"
  },
  "language_info": {
   "codemirror_mode": {
    "name": "ipython",
    "version": 2
   },
   "file_extension": ".py",
   "mimetype": "text/x-python",
   "name": "python",
   "nbconvert_exporter": "python",
   "pygments_lexer": "ipython2",
   "version": "2.7.6"
  }
 },
 "nbformat": 4,
 "nbformat_minor": 2
}
