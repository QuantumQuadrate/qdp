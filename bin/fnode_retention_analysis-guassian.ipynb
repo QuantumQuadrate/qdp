{
 "cells": [
  {
   "cell_type": "code",
   "execution_count": 2,
   "metadata": {},
   "outputs": [],
   "source": [
    "%matplotlib ipympl\n",
    "from QDP import qdp\n",
    "import os.path\n",
    "import numpy as np\n",
    "from scipy.stats import poisson\n",
    "import matplotlib.pyplot as plt\n",
    "from scipy import optimize\n",
    "dp = '/home/ebert/jupyter-notebooks/FNode-data'\n",
    "exclude = [2]\n",
    "\n",
    "def gaussian(x, a, x0, s, b):\n",
    "    return b + a*np.exp(-0.5*((x-x0)/s)**2)"
   ]
  },
  {
   "cell_type": "code",
   "execution_count": 3,
   "metadata": {
    "scrolled": false
   },
   "outputs": [
    {
     "name": "stdout",
     "output_type": "stream",
     "text": [
      "data at: 2018_05_12/2018_05_12_14_29_45_ssro-ix/results.hdf5\n",
      "name 'fort_exp' is not defined\n",
      "name 'rb_uwave_freq' is not defined\n",
      "ivars: [u'Ix_read']\n",
      "ivar: 0.1500\tcloading: 0.185\trloading: 0.210\t\tcretention: 0.889 +- 0.024\trretention: 0.664 +- 0.024\n",
      "ivar: 0.1800\tcloading: 0.306\trloading: 0.181\t\tcretention: 0.897 +- 0.024\trretention: 0.566 +- 0.024\n",
      "ivar: 0.2100\tcloading: 0.249\trloading: 0.175\t\tcretention: 0.913 +- 0.025\trretention: 0.625 +- 0.025\n",
      "ivar: 0.2400\tcloading: 0.263\trloading: 0.188\t\tcretention: 0.829 +- 0.024\trretention: 0.669 +- 0.024\n",
      "ivar: 0.2700\tcloading: 0.156\trloading: 0.211\t\tcretention: 0.926 +- 0.024\trretention: 0.668 +- 0.024\n",
      "ivar: 0.3000\tcloading: 0.162\trloading: 0.224\t\tcretention: 0.836 +- 0.024\trretention: 0.681 +- 0.024\n",
      "ivar: 0.3300\tcloading: 0.168\trloading: 0.246\t\tcretention: 0.816 +- 0.023\trretention: 0.737 +- 0.023\n",
      "ivar: 0.3600\tcloading: 0.239\trloading: 0.198\t\tcretention: 0.865 +- 0.024\trretention: 0.674 +- 0.024\n",
      "ivar: 0.3900\tcloading: 0.144\trloading: 0.182\t\tcretention: 0.820 +- 0.025\trretention: 0.635 +- 0.025\n",
      "ivar: 0.4200\tcloading: 0.091\trloading: 0.241\t\tcretention: 0.773 +- 0.025\trretention: 0.668 +- 0.025\n",
      "ivar: 0.4500\tcloading: 0.119\trloading: 0.199\t\tcretention: 0.807 +- 0.025\trretention: 0.589 +- 0.025\n"
     ]
    },
    {
     "name": "stderr",
     "output_type": "stream",
     "text": [
      "/home/ebert/jupyter-notebooks/FNode/analyses/qdp/QDP/qdp.py:118: RuntimeWarning: overflow encountered in double_scalars\n",
      "  errs[r] = (z/n[r].astype('float'))*np.sqrt(ns[r].astype('float')*(1.0-ns[r].astype('float')/n[r].astype('float')))\n",
      "/home/ebert/jupyter-notebooks/FNode/analyses/qdp/QDP/qdp.py:118: RuntimeWarning: invalid value encountered in sqrt\n",
      "  errs[r] = (z/n[r].astype('float'))*np.sqrt(ns[r].astype('float')*(1.0-ns[r].astype('float')/n[r].astype('float')))\n",
      "/home/ebert/jupyter-notebooks/FNode/analyses/qdp/QDP/qdp.py:275: RuntimeWarning: divide by zero encountered in divide\n",
      "  e['iterations'][i]['retention'] = retention/loaded\n",
      "/home/ebert/jupyter-notebooks/FNode/analyses/qdp/QDP/qdp.py:275: RuntimeWarning: invalid value encountered in divide\n",
      "  e['iterations'][i]['retention'] = retention/loaded\n"
     ]
    },
    {
     "data": {
      "application/vnd.jupyter.widget-view+json": {
       "model_id": "e62e23b8a9b74ac2b4f7348a1a53c43e",
       "version_major": 2,
       "version_minor": 0
      },
      "text/html": [
       "<p>Failed to display Jupyter Widget of type <code>FigureCanvasNbAgg</code>.</p>\n",
       "<p>\n",
       "  If you're reading this message in Jupyter Notebook or JupyterLab, it may mean\n",
       "  that the widgets JavaScript is still loading. If this message persists, it\n",
       "  likely means that the widgets JavaScript library is either not installed or\n",
       "  not enabled. See the <a href=\"https://ipywidgets.readthedocs.io/en/stable/user_install.html\">Jupyter\n",
       "  Widgets Documentation</a> for setup instructions.\n",
       "</p>\n",
       "<p>\n",
       "  If you're reading this message in another notebook frontend (for example, a static\n",
       "  rendering on GitHub or <a href=\"https://nbviewer.jupyter.org/\">NBViewer</a>),\n",
       "  it may mean that your frontend doesn't currently support widgets.\n",
       "</p>\n"
      ],
      "text/plain": [
       "FigureCanvasNbAgg()"
      ]
     },
     "metadata": {},
     "output_type": "display_data"
    },
    {
     "name": "stdout",
     "output_type": "stream",
     "text": [
      "[ 0.12100629  0.17134076  0.14960064  0.77290944]\n",
      "[ 0.09410237  0.32041971 -0.05082406  0.61669192]\n"
     ]
    }
   ],
   "source": [
    "exp_name = ''\n",
    "if exp_name:\n",
    "    exp_date = '_'.join(exp_name.split('_')[:3])\n",
    "    experiment_file = os.path.join(exp_date, exp_name, 'results.hdf5')\n",
    "else:\n",
    "    experiment_file = ''\n",
    "q = qdp.QDP(base_data_path=dp)\n",
    "q.load_data_file(experiment_file)\n",
    "print \"ivars: {}\".format(q.experiments[0]['variable_list'])\n",
    "cs_cuts = [[400],[3]]\n",
    "rb_cuts = [[300],[3]]\n",
    "q.set_thresholds(cs_cuts, roi=0)\n",
    "q.set_thresholds(rb_cuts, roi=1)\n",
    "retention = q.apply_thresholds(exclude_rois=exclude)\n",
    "cuts = q.get_thresholds()\n",
    "roi_map = ['cs', 'rb']\n",
    "fmt_map = ['bo', 'rx']\n",
    "entries = np.product(retention['retention'].shape[:-1])\n",
    "tbl_str = \"ivar: {0:.4f}\\tcloading: {1:.3f}\\trloading: {2:.3f}\\t\\tcretention: {3:.3f} +- {4:.3f}\\trretention: {5:.3f} +- {6:.3f}\"\n",
    "for i in range(entries):\n",
    "    print(tbl_str.format(\n",
    "        retention['ivar'].reshape((entries,-1))[i][0],\n",
    "        retention['loading'].reshape((entries,-1))[i][0], retention['loading'].reshape((entries,-1))[i][1],\n",
    "        retention['retention'].reshape((entries,-1))[i][0], retention['error'].reshape((entries,-1))[i][0],\n",
    "        retention['retention'].reshape((entries,-1))[i][1], retention['error'].reshape((entries,-1))[i][1]\n",
    "    ))\n",
    "q.save_experiment_data()\n",
    "xlab = q.experiments[0]['variable_desc'][q.experiments[0]['variable_list'][0]]['description']\n",
    "\n",
    "# plotting\n",
    "fig, ax = plt.subplots(nrows=2, figsize=(5,8))\n",
    "plt.subplots_adjust(wspace=0.3)\n",
    "for i, yvals in enumerate(['retention', 'loading']):\n",
    "    for e in range(len(retention['ivar'])):\n",
    "        for r in range(2):            \n",
    "            if yvals=='retention':\n",
    "                try:\n",
    "                    ax[i].errorbar(retention['ivar'][e, :, r], retention[yvals][e, :, r],\n",
    "                        yerr=retention['error'][e,:,r],\n",
    "                        fmt=fmt_map[r]\n",
    "                    )\n",
    "                except Exception as ee:\n",
    "                    print(ee)\n",
    "                    ax[i].plot(retention['ivar'][e, :, 0], retention[yvals][e, :, r], fmt_map[r])\n",
    "                # fitting\n",
    "                xs = np.linspace(min(retention['ivar'][e, :, 0]), max(retention['ivar'][e, :, 0]),100)\n",
    "                guess = [0.6, retention['ivar'][e, np.argmin(retention[yvals][e, :, r]), 0], 0.4, .0]\n",
    "                try:\n",
    "                    popt, pcov = optimize.curve_fit(\n",
    "                        gaussian,\n",
    "                        retention['ivar'][e, :, 0],\n",
    "                        retention[yvals][e, :, r],\n",
    "                        p0=guess,\n",
    "                        sigma=retention['error'][e, :, r]\n",
    "                    )\n",
    "                except Exception as ee:\n",
    "                    print ee\n",
    "                else:\n",
    "                    ax[i].plot(xs, gaussian(xs, *popt), fmt_map[r][0]+'--', alpha=0.6)\n",
    "                    print(popt)\n",
    "                    fit_data = \"{}\\na: {:.3f}\\nx0: {:.3f}\\ns: {:.3f}\\nb: {:.3f}\"\n",
    "                    start = np.min(retention['ivar'][e, :, 0])\n",
    "                    stop = np.max(retention['ivar'][e, :, 0])\n",
    "                    dx = (stop-start)/10\n",
    "                    ax[i].text(start+dx+r*5*dx, 0.5, fit_data.format(roi_map[r],*popt), fontsize=12)\n",
    "            else:\n",
    "                ax[i].plot(retention['ivar'][e, :, 0], retention[yvals][e, :, r], fmt_map[r])\n",
    "                \n",
    "        \n",
    "    ax[i].set_ylim(0., 1)\n",
    "    ax[i].set_xlabel(xlab)\n",
    "    ax[i].set_ylabel(yvals)\n",
    "\n",
    "fmts = ['pdf', 'png']\n",
    "fn = os.path.join(dp, q.experiments[0]['source_path'], 'loading_scan.{}')\n",
    "for fmt in fmts:\n",
    "    fig.savefig(fn.format(fmt), dpi=200, format=fmt)"
   ]
  },
  {
   "cell_type": "code",
   "execution_count": 3,
   "metadata": {
    "scrolled": false
   },
   "outputs": [
    {
     "data": {
      "application/vnd.jupyter.widget-view+json": {
       "model_id": "ca5c0e3528444271a43c4802e4779ff0",
       "version_major": 2,
       "version_minor": 0
      },
      "text/html": [
       "<p>Failed to display Jupyter Widget of type <code>FigureCanvasNbAgg</code>.</p>\n",
       "<p>\n",
       "  If you're reading this message in Jupyter Notebook or JupyterLab, it may mean\n",
       "  that the widgets JavaScript is still loading. If this message persists, it\n",
       "  likely means that the widgets JavaScript library is either not installed or\n",
       "  not enabled. See the <a href=\"https://ipywidgets.readthedocs.io/en/stable/user_install.html\">Jupyter\n",
       "  Widgets Documentation</a> for setup instructions.\n",
       "</p>\n",
       "<p>\n",
       "  If you're reading this message in another notebook frontend (for example, a static\n",
       "  rendering on GitHub or <a href=\"https://nbviewer.jupyter.org/\">NBViewer</a>),\n",
       "  it may mean that your frontend doesn't currently support widgets.\n",
       "</p>\n"
      ],
      "text/plain": [
       "FigureCanvasNbAgg()"
      ]
     },
     "metadata": {},
     "output_type": "display_data"
    },
    {
     "name": "stdout",
     "output_type": "stream",
     "text": [
      "[ -3.01166383e+02  -3.14593595e-02  -5.04097583e+00   3.01966334e+02]\n",
      "[-0.05794977 -0.0061385  -0.04389579  0.59028975]\n"
     ]
    }
   ],
   "source": [
    "# plotting\n",
    "fig, ax = plt.subplots(nrows=2, figsize=(5,8))\n",
    "plt.subplots_adjust(wspace=0.3)\n",
    "for i, yvals in enumerate(['retention', 'loading']):\n",
    "    for e in range(len(retention['ivar'])):\n",
    "        for r in range(2):            \n",
    "            if yvals=='retention':\n",
    "                try:\n",
    "                    ax[i].errorbar(retention['ivar'][e, :, r], retention[yvals][e, :, r],\n",
    "                        yerr=retention['error'][e,:,r],\n",
    "                        fmt=fmt_map[r]\n",
    "                    )\n",
    "                except Exception as ee:\n",
    "                    print(ee)\n",
    "                    ax[i].plot(retention['ivar'][e, :, 0], retention[yvals][e, :, r], fmt_map[r])\n",
    "                # fitting\n",
    "                xs = np.linspace(min(retention['ivar'][e, :, 0]), max(retention['ivar'][e, :, 0]),100)\n",
    "                guess = [0.6, retention['ivar'][e, np.argmin(retention[yvals][e, :, r]), 0], 0.2, .6]\n",
    "                try:\n",
    "                    popt, pcov = optimize.curve_fit(\n",
    "                        gaussian,\n",
    "                        retention['ivar'][e, :, 0],\n",
    "                        retention[yvals][e, :, r],\n",
    "                        p0=guess,\n",
    "#                         sigma=retention['error'][e, :, r]\n",
    "                    )\n",
    "                except Exception as ee:\n",
    "                    print ee\n",
    "                else:\n",
    "                    ax[i].plot(xs, gaussian(xs, *popt), fmt_map[r][0]+'--', alpha=0.6)\n",
    "                    print(popt)\n",
    "                    fit_data = \"{}\\na: {:.3f}\\nx0: {:.3f}\\ns: {:.3f}\\nb: {:.3f}\"\n",
    "                    start = np.min(retention['ivar'][e, :, 0])\n",
    "                    stop = np.max(retention['ivar'][e, :, 0])\n",
    "                    dx = (stop-start)/10\n",
    "                    ax[i].text(start+dx+r*6*dx, 0.1, fit_data.format(roi_map[r],*popt), fontsize=12)\n",
    "            else:\n",
    "                ax[i].plot(retention['ivar'][e, :, 0], retention[yvals][e, :, r], fmt_map[r])\n",
    "                \n",
    "        \n",
    "    ax[i].set_ylim(0., 1.05)\n",
    "    ax[i].set_xlabel(xlab)\n",
    "    ax[i].set_ylabel(yvals)\n",
    "\n",
    "fmts = ['pdf', 'png']\n",
    "fn = os.path.join(dp, q.experiments[0]['source_path'], 'loading_scan.{}')\n",
    "for fmt in fmts:\n",
    "    fig.savefig(fn.format(fmt), dpi=200, format=fmt)"
   ]
  },
  {
   "cell_type": "code",
   "execution_count": null,
   "metadata": {},
   "outputs": [],
   "source": []
  }
 ],
 "metadata": {
  "kernelspec": {
   "display_name": "Python 2",
   "language": "python",
   "name": "python2"
  },
  "language_info": {
   "codemirror_mode": {
    "name": "ipython",
    "version": 2
   },
   "file_extension": ".py",
   "mimetype": "text/x-python",
   "name": "python",
   "nbconvert_exporter": "python",
   "pygments_lexer": "ipython2",
   "version": "2.7.6"
  }
 },
 "nbformat": 4,
 "nbformat_minor": 2
}
