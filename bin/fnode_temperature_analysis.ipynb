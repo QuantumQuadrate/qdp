{
 "cells": [
  {
   "cell_type": "code",
   "execution_count": 3,
   "metadata": {},
   "outputs": [],
   "source": [
    "%matplotlib ipympl\n",
    "from QDP import qdp, atom\n",
    "import os.path\n",
    "import numpy as np\n",
    "from scipy.stats import poisson\n",
    "from scipy import optimize\n",
    "import matplotlib.pyplot as plt\n",
    "dp = '/home/ebert/jupyter-notebooks/FNode-data'\n",
    "\n",
    "exclude = [2]"
   ]
  },
  {
   "cell_type": "code",
   "execution_count": 93,
   "metadata": {},
   "outputs": [
    {
     "name": "stdout",
     "output_type": "stream",
     "text": [
      "data at: 2018_07_19/2018_07_19_22_48_23_csrb-hd-odt-heating-1000ms/results.hdf5\n",
      "name 'fort_exp' is not defined\n",
      "name 'rb_uwave_freq' is not defined\n",
      "ivars: [u'fort_drop_us']\n",
      "--------------------\n",
      "--------------------\n",
      "--------------------\n",
      "--------------------\n",
      "On entry to DGESDD parameter number 5 had an illegal value\n",
      "There may be some issue with your guess: `[  1.39650695e-17   0.00000000e+00   0.00000000e+00]`\n",
      "--------------------\n",
      "On entry to DGESDD parameter number 5 had an illegal value\n",
      "There may be some issue with your guess: `[  1.39650695e-17   0.00000000e+00   0.00000000e+00]`\n",
      "--------------------\n",
      "ivar:\t0.0\tretention:[ 0.88741722  0.83425414         nan] +- [ 0.02324488  0.02324488  0.02324488]\n",
      "ivar:\t2.5\tretention:[ 0.84666667  0.87562189         nan] +- [ 0.01957619  0.01957619  0.01957619]\n",
      "ivar:\t5.0\tretention:[ 0.80821918  0.84251969         inf] +- [ 0.02718299  0.02718299  0.02718299]\n",
      "ivar:\t7.5\tretention:[ 0.7972973   0.73493976         nan] +- [ 0.0407432  0.0407432  0.0407432]\n",
      "ivar:\t10.0\tretention:[ 0.78873239  0.7                nan] +- [ 0.04975423  0.04975423  0.04975423]\n",
      "ivar:\t12.5\tretention:[ 0.75        0.71774194         inf] +- [ 0.03399323  0.03399323  0.03399323]\n",
      "ivar:\t15.0\tretention:[ 0.73611111  0.65811966         nan] +- [ 0.03688014  0.03688014  0.03688014]\n",
      "ivar:\t17.5\tretention:[ 0.72222222  0.61403509         inf] +- [ 0.03130895  0.03130895  0.03130895]\n",
      "ivar:\t20.0\tretention:[ 0.70547945  0.64864865         nan] +- [ 0.03810747  0.03810747  0.03810747]\n",
      "ivar:\t22.5\tretention:[ 0.64827586  0.59340659         nan] +- [ 0.04330436  0.04330436  0.04330436]\n",
      "ivar:\t25.0\tretention:[ 0.54545455  0.42068966         inf] +- [ 0.03447852  0.03447852  0.03447852]\n"
     ]
    },
    {
     "data": {
      "application/vnd.jupyter.widget-view+json": {
       "model_id": "01ba0e220e6748449fdb1e0c0bdfe176",
       "version_major": 2,
       "version_minor": 0
      },
      "text/html": [
       "<p>Failed to display Jupyter Widget of type <code>FigureCanvasNbAgg</code>.</p>\n",
       "<p>\n",
       "  If you're reading this message in Jupyter Notebook or JupyterLab, it may mean\n",
       "  that the widgets JavaScript is still loading. If this message persists, it\n",
       "  likely means that the widgets JavaScript library is either not installed or\n",
       "  not enabled. See the <a href=\"https://ipywidgets.readthedocs.io/en/stable/user_install.html\">Jupyter\n",
       "  Widgets Documentation</a> for setup instructions.\n",
       "</p>\n",
       "<p>\n",
       "  If you're reading this message in another notebook frontend (for example, a static\n",
       "  rendering on GitHub or <a href=\"https://nbviewer.jupyter.org/\">NBViewer</a>),\n",
       "  it may mean that your frontend doesn't currently support widgets.\n",
       "</p>\n"
      ],
      "text/plain": [
       "FigureCanvasNbAgg()"
      ]
     },
     "metadata": {},
     "output_type": "display_data"
    }
   ],
   "source": [
    "exp_name = '2018_07_19_22_48_23_csrb-hd-odt-heating-1000ms'\n",
    "# exp_name = ''\n",
    "if exp_name:\n",
    "    exp_date = '_'.join(exp_name.split('_')[:3])\n",
    "    experiment_file = os.path.join(exp_date, exp_name, 'results.hdf5')\n",
    "else:\n",
    "    experiment_file = ''\n",
    "q = qdp.QDP(base_data_path=dp)\n",
    "q.load_data_file(experiment_file)\n",
    "print \"ivars: {}\".format(q.experiments[0]['variable_list'])\n",
    "roi_map = ['cs', 'rb']\n",
    "cs_cuts = [[27],[2]]\n",
    "rb_cuts = [[30],[3]]\n",
    "marker_styles = [\n",
    "    dict(color='cornflowerblue', marker='o', markeredgecolor='b', linestyle='None'),\n",
    "    dict(color='indianred', marker='d', markeredgecolor='r', linestyle='None')\n",
    "]\n",
    "q.set_thresholds(cs_cuts, roi=0)\n",
    "q.set_thresholds(rb_cuts, roi=1)\n",
    "q.generate_thresholds(loss=False)\n",
    "retention = q.apply_thresholds(exclude_rois=exclude)\n",
    "# for l in ['retention', 'ivar', 'error']:\n",
    "#     retention[l] = np.delete(retention[l],-6,1)\n",
    "tbl_str = \"ivar:\\t{0}\\tretention:{1} +- {2}\"\n",
    "entries = np.product(retention['retention'].shape[:-1])\n",
    "for i in range(entries):\n",
    "    print(tbl_str.format(\n",
    "        retention['ivar'].reshape((entries,-1))[i][0],\n",
    "        retention['retention'].reshape((entries,-1))[i],\n",
    "        retention['error'].reshape((entries,-1))[i]\n",
    "    ))\n",
    "# q.save_experiment_data()\n",
    "q.experiments[0]['variable_list']\n",
    "try:\n",
    "    xlab = q.experiments[0]['variable_desc'][q.experiments[0]['variable_list'][0]]['description']\n",
    "except IndexError:\n",
    "    print(\"Only one iteration\")\n",
    "    xlab = ''\n",
    "\n",
    "fig, ax = plt.subplots()\n",
    "for e in range(len(retention['ivar'])):\n",
    "    for r in range(2):\n",
    "        ax.errorbar(\n",
    "            retention['ivar'][e, :, r], retention['retention'][e, :, r],\n",
    "            yerr=retention['error'][e, :, r],\n",
    "            **marker_styles[r]\n",
    "        )\n",
    "ax.set_ylim(0, 1.01)\n",
    "ax.set_xlabel(xlab)\n",
    "ax.set_ylabel('F=4(2) pop.')\n",
    "\n",
    "fmts = ['pdf', 'png']\n",
    "fn = os.path.join(dp, q.experiments[0]['source_path'], 'retention_scan.{}')\n",
    "for fmt in fmts:\n",
    "    fig.savefig(fn.format(fmt), dpi=200, format=fmt)"
   ]
  },
  {
   "cell_type": "code",
   "execution_count": 119,
   "metadata": {},
   "outputs": [],
   "source": [
    "def fnode_release_recapture(t, T_uk, a='cs'):\n",
    "    wr_um = 2.3\n",
    "    zr_um = 15.6  # calculated\n",
    "    pfort_nom = 80.  # 80 mV on detector\n",
    "    pfort_act = 135.6  # mV on detector\n",
    "    fort_depth_fac = pfort_act/pfort_nom\n",
    "    if a == 'cs':\n",
    "        U_mk = 1.38*fort_depth_fac\n",
    "        fr_khz = 37.4*np.sqrt(fort_depth_fac)\n",
    "        fa_khz = 3.730*np.sqrt(fort_depth_fac)\n",
    "        m_au = 132.905\n",
    "    else:  # rb\n",
    "        U_mk = 0.81*fort_depth_fac\n",
    "        fr_khz = 35.4*np.sqrt(fort_depth_fac)\n",
    "        fa_khz = 3.57*np.sqrt(fort_depth_fac)\n",
    "        m_au = 86.909\n",
    "    n=50000\n",
    "    try:\n",
    "        res = np.zeros(len(t))\n",
    "        for i in xrange(len(t)):\n",
    "            res[i] = atom.release_recapture(t[i], T_uk, U_mk, wr_um, zr_um, fr_khz, fa_khz, n=n, m_au=m_au)\n",
    "        return res\n",
    "    except Exception as e:\n",
    "        print(e)\n",
    "        return atom.release_recapture(t, T_uk, U_mk, wr_um, zr_um, fr_khz, fa_khz, n=n, m_au=m_au)\n",
    "\n",
    "def residuals(T_uk, y, t, f0, a='cs'):\n",
    "    res = y - f0*fnode_release_recapture(t, T_uk, a=a)\n",
    "    #print \"T_uk = {}, -> {}\".format(T_uk, np.sum(np.power(res, 2)))\n",
    "    return res\n",
    "\n",
    "def ls_err(T_uk, y, t, f0, w, a='cs'):\n",
    "    res = residuals(T_uk, y, t, f0, a=a)\n",
    "    return np.dot(np.power(res, 2), w)"
   ]
  },
  {
   "cell_type": "code",
   "execution_count": 120,
   "metadata": {},
   "outputs": [],
   "source": [
    "p0_opt = [retention['retention'][e, 0, 0],retention['retention'][e, 0, 1]]"
   ]
  },
  {
   "cell_type": "markdown",
   "metadata": {},
   "source": [
    "# Minimize along T axis with initial retention guess"
   ]
  },
  {
   "cell_type": "code",
   "execution_count": 122,
   "metadata": {},
   "outputs": [],
   "source": [
    "# do the fit by hand because curve_fit and least_squares dont seem to want to take large enough step sizes when searching\n",
    "# this is a problem when the function is not very repeatable, like in a monte carlo\n",
    "e=0\n",
    "ls_data = []\n",
    "start = [40, 40]\n",
    "end = [200, 200]\n",
    "n = 11\n",
    "for r in range(2):\n",
    "    ls_data.append(np.array([\n",
    "        [T, ls_err(T, retention['retention'][e, :, r], retention['ivar'][e, :, r], retention['retention'][e, 0, r], np.power(retention['error'][e, :, r], -0.5), a=roi_map[r])] \n",
    "        for T in np.linspace(start[r],end[r],n)\n",
    "    ]))"
   ]
  },
  {
   "cell_type": "code",
   "execution_count": 123,
   "metadata": {},
   "outputs": [
    {
     "data": {
      "application/vnd.jupyter.widget-view+json": {
       "model_id": "5cb11de37f4d44d1b54c292f6ca81504",
       "version_major": 2,
       "version_minor": 0
      },
      "text/html": [
       "<p>Failed to display Jupyter Widget of type <code>FigureCanvasNbAgg</code>.</p>\n",
       "<p>\n",
       "  If you're reading this message in Jupyter Notebook or JupyterLab, it may mean\n",
       "  that the widgets JavaScript is still loading. If this message persists, it\n",
       "  likely means that the widgets JavaScript library is either not installed or\n",
       "  not enabled. See the <a href=\"https://ipywidgets.readthedocs.io/en/stable/user_install.html\">Jupyter\n",
       "  Widgets Documentation</a> for setup instructions.\n",
       "</p>\n",
       "<p>\n",
       "  If you're reading this message in another notebook frontend (for example, a static\n",
       "  rendering on GitHub or <a href=\"https://nbviewer.jupyter.org/\">NBViewer</a>),\n",
       "  it may mean that your frontend doesn't currently support widgets.\n",
       "</p>\n"
      ],
      "text/plain": [
       "FigureCanvasNbAgg()"
      ]
     },
     "metadata": {},
     "output_type": "display_data"
    },
    {
     "name": "stdout",
     "output_type": "stream",
     "text": [
      "Optimization terminated successfully.\n",
      "         Current function value: 0.123194\n",
      "         Iterations: 22\n",
      "         Function evaluations: 44\n",
      "Optimization terminated successfully.\n",
      "         Current function value: 0.254804\n",
      "         Iterations: 21\n",
      "         Function evaluations: 42\n"
     ]
    }
   ],
   "source": [
    "fig, ax = plt.subplots()\n",
    "# print ls_data\n",
    "z = []\n",
    "T_opt = []\n",
    "for r in range(2):\n",
    "    xs = np.linspace(start[r],end[r],n)\n",
    "    z.append(np.polyfit(ls_data[r][:,0], ls_data[r][:,1], 2))\n",
    "    ax.plot(ls_data[r][:,0], ls_data[r][:,1], ['bo', 'rx'][r])\n",
    "    ax.plot(xs, np.poly1d(z[r])(xs))\n",
    "    T_opt.append(optimize.fmin(np.poly1d(z[r]), 63)[0])"
   ]
  },
  {
   "cell_type": "markdown",
   "metadata": {},
   "source": [
    "# Minimize along p0 axis with T_opt"
   ]
  },
  {
   "cell_type": "code",
   "execution_count": 137,
   "metadata": {},
   "outputs": [],
   "source": [
    "# do the fit by hand because curve_fit and least_squares dont seem to want to take large enough step sizes when searching\n",
    "# this is a problem when the function is not very repeatable, like in a monte carlo\n",
    "e=0\n",
    "ls_data = []\n",
    "start = np.array(p0_opt) - 0.0125\n",
    "end = np.array(p0_opt) + 0.0125\n",
    "n = 15\n",
    "for r in range(2):\n",
    "    ls_data.append(np.array([\n",
    "        [p0, ls_err(T_opt[r], retention['retention'][e, :, r], retention['ivar'][e, :, r], p0, np.power(retention['error'][e, :, r], -0.5), a=roi_map[r])] \n",
    "        for p0 in np.linspace(start[r],end[r],n)\n",
    "    ]))"
   ]
  },
  {
   "cell_type": "code",
   "execution_count": 138,
   "metadata": {},
   "outputs": [
    {
     "data": {
      "application/vnd.jupyter.widget-view+json": {
       "model_id": "52a3376f450740388bc425495b5bcaab",
       "version_major": 2,
       "version_minor": 0
      },
      "text/html": [
       "<p>Failed to display Jupyter Widget of type <code>FigureCanvasNbAgg</code>.</p>\n",
       "<p>\n",
       "  If you're reading this message in Jupyter Notebook or JupyterLab, it may mean\n",
       "  that the widgets JavaScript is still loading. If this message persists, it\n",
       "  likely means that the widgets JavaScript library is either not installed or\n",
       "  not enabled. See the <a href=\"https://ipywidgets.readthedocs.io/en/stable/user_install.html\">Jupyter\n",
       "  Widgets Documentation</a> for setup instructions.\n",
       "</p>\n",
       "<p>\n",
       "  If you're reading this message in another notebook frontend (for example, a static\n",
       "  rendering on GitHub or <a href=\"https://nbviewer.jupyter.org/\">NBViewer</a>),\n",
       "  it may mean that your frontend doesn't currently support widgets.\n",
       "</p>\n"
      ],
      "text/plain": [
       "FigureCanvasNbAgg()"
      ]
     },
     "metadata": {},
     "output_type": "display_data"
    },
    {
     "name": "stdout",
     "output_type": "stream",
     "text": [
      "Optimization terminated successfully.\n",
      "         Current function value: 0.058770\n",
      "         Iterations: 23\n",
      "         Function evaluations: 46\n",
      "Optimization terminated successfully.\n",
      "         Current function value: 0.132657\n",
      "         Iterations: 23\n",
      "         Function evaluations: 46\n"
     ]
    }
   ],
   "source": [
    "fig, ax = plt.subplots()\n",
    "# print ls_data\n",
    "z = []\n",
    "p0_opt = []\n",
    "for r in range(2):\n",
    "    xs = np.linspace(start[r],end[r],n)\n",
    "    z.append(np.polyfit(ls_data[r][:,0], ls_data[r][:,1], 2))\n",
    "    ax.plot(ls_data[r][:,0], ls_data[r][:,1], ['bo', 'rx'][r])\n",
    "    ax.plot(xs, np.poly1d(z[r])(xs))\n",
    "    p0_opt.append(min(optimize.fmin(np.poly1d(z[r]), 63)[0], 1))"
   ]
  },
  {
   "cell_type": "markdown",
   "metadata": {},
   "source": [
    "# Minimize along T axis with p0_opt"
   ]
  },
  {
   "cell_type": "code",
   "execution_count": 139,
   "metadata": {},
   "outputs": [],
   "source": [
    "# do the fit by hand because curve_fit and least_squares dont seem to want to take large enough step sizes when searching\n",
    "# this is a problem when the function is not very repeatable, like in a monte carlo\n",
    "e=0\n",
    "ls_data = []\n",
    "start = np.array(T_opt) - 15\n",
    "end = np.array(T_opt) + 15\n",
    "n = 21\n",
    "for r in range(2):\n",
    "    ls_data.append(np.array([\n",
    "        [T, ls_err(T, retention['retention'][e, :, r], retention['ivar'][e, :, r], min(p0_opt[r], 1), np.power(retention['error'][e, :, r], -0.5), a=roi_map[r])] \n",
    "        for T in np.linspace(start[r],end[r],n)\n",
    "    ]))"
   ]
  },
  {
   "cell_type": "code",
   "execution_count": 140,
   "metadata": {},
   "outputs": [
    {
     "data": {
      "application/vnd.jupyter.widget-view+json": {
       "model_id": "02efd3d0880b4ad6922897b6bfe80141",
       "version_major": 2,
       "version_minor": 0
      },
      "text/html": [
       "<p>Failed to display Jupyter Widget of type <code>FigureCanvasNbAgg</code>.</p>\n",
       "<p>\n",
       "  If you're reading this message in Jupyter Notebook or JupyterLab, it may mean\n",
       "  that the widgets JavaScript is still loading. If this message persists, it\n",
       "  likely means that the widgets JavaScript library is either not installed or\n",
       "  not enabled. See the <a href=\"https://ipywidgets.readthedocs.io/en/stable/user_install.html\">Jupyter\n",
       "  Widgets Documentation</a> for setup instructions.\n",
       "</p>\n",
       "<p>\n",
       "  If you're reading this message in another notebook frontend (for example, a static\n",
       "  rendering on GitHub or <a href=\"https://nbviewer.jupyter.org/\">NBViewer</a>),\n",
       "  it may mean that your frontend doesn't currently support widgets.\n",
       "</p>\n"
      ],
      "text/plain": [
       "FigureCanvasNbAgg()"
      ]
     },
     "metadata": {},
     "output_type": "display_data"
    }
   ],
   "source": [
    "fig, ax = plt.subplots()\n",
    "# print ls_data\n",
    "z = []\n",
    "T_opt = []\n",
    "for r in range(2):\n",
    "    xs = np.linspace(start[r],end[r],n)\n",
    "    z.append(np.polyfit(ls_data[r][:,0], ls_data[r][:,1], 2, cov=True))\n",
    "    ax.plot(ls_data[r][:,0], ls_data[r][:,1], ['bo', 'rx'][r])\n",
    "    ax.plot(xs, np.poly1d(z[r][0])(xs))\n",
    "    T_opt.append(-z[r][0][1]/(2*z[r][0][0]))"
   ]
  },
  {
   "cell_type": "markdown",
   "metadata": {},
   "source": [
    "# plot final fit"
   ]
  },
  {
   "cell_type": "code",
   "execution_count": 43,
   "metadata": {},
   "outputs": [],
   "source": [
    "def quad_uncert(popt, pcov):\n",
    "    return np.sqrt(np.abs(pcov[0][0])*np.power(popt[1]/(2.*np.power(popt[0],2)), 2) + np.abs(pcov[1][1])*np.power(1./(2.*popt[0]), 2))"
   ]
  },
  {
   "cell_type": "code",
   "execution_count": 44,
   "metadata": {},
   "outputs": [
    {
     "data": {
      "text/plain": [
       "7.6123498076146934"
      ]
     },
     "execution_count": 44,
     "metadata": {},
     "output_type": "execute_result"
    }
   ],
   "source": [
    "quad_uncert(z[1][0], z[1][1])"
   ]
  },
  {
   "cell_type": "code",
   "execution_count": 45,
   "metadata": {},
   "outputs": [
    {
     "data": {
      "text/plain": [
       "array([  4.55883126e-12,   1.66834504e-07])"
      ]
     },
     "execution_count": 45,
     "metadata": {},
     "output_type": "execute_result"
    }
   ],
   "source": [
    "np.diagonal(np.abs(z[0][1]))[:2]"
   ]
  },
  {
   "cell_type": "code",
   "execution_count": 46,
   "metadata": {},
   "outputs": [
    {
     "data": {
      "text/plain": [
       "-2824090.9613695936"
      ]
     },
     "execution_count": 46,
     "metadata": {},
     "output_type": "execute_result"
    }
   ],
   "source": [
    "z[0][0][1]/(2.*z[0][0][0]**2)"
   ]
  },
  {
   "cell_type": "code",
   "execution_count": 47,
   "metadata": {},
   "outputs": [
    {
     "data": {
      "text/plain": [
       "1.1420278425082057e-09"
      ]
     },
     "execution_count": 47,
     "metadata": {},
     "output_type": "execute_result"
    }
   ],
   "source": [
    "z[0][0][0]**2"
   ]
  },
  {
   "cell_type": "code",
   "execution_count": 143,
   "metadata": {
    "scrolled": false
   },
   "outputs": [
    {
     "data": {
      "application/vnd.jupyter.widget-view+json": {
       "model_id": "f7bc7613d9c0416cb6e80c91a5cb1be4",
       "version_major": 2,
       "version_minor": 0
      },
      "text/html": [
       "<p>Failed to display Jupyter Widget of type <code>FigureCanvasNbAgg</code>.</p>\n",
       "<p>\n",
       "  If you're reading this message in Jupyter Notebook or JupyterLab, it may mean\n",
       "  that the widgets JavaScript is still loading. If this message persists, it\n",
       "  likely means that the widgets JavaScript library is either not installed or\n",
       "  not enabled. See the <a href=\"https://ipywidgets.readthedocs.io/en/stable/user_install.html\">Jupyter\n",
       "  Widgets Documentation</a> for setup instructions.\n",
       "</p>\n",
       "<p>\n",
       "  If you're reading this message in another notebook frontend (for example, a static\n",
       "  rendering on GitHub or <a href=\"https://nbviewer.jupyter.org/\">NBViewer</a>),\n",
       "  it may mean that your frontend doesn't currently support widgets.\n",
       "</p>\n"
      ],
      "text/plain": [
       "FigureCanvasNbAgg()"
      ]
     },
     "metadata": {},
     "output_type": "display_data"
    }
   ],
   "source": [
    "fig, ax = plt.subplots()\n",
    "for e in range(len(retention['ivar'])):\n",
    "    for r in range(2):\n",
    "        ax.errorbar(\n",
    "            retention['ivar'][e, :, r], retention['retention'][e, :, r],\n",
    "            yerr=retention['error'][e, :, r],\n",
    "            **marker_styles[r]\n",
    "        )\n",
    "        xs = np.linspace(0, max(retention['ivar'][e,:,r]), 30)\n",
    "        ax.plot(xs, fnode_release_recapture(xs, T_opt[r], a=roi_map[r])*p0_opt[r], 'k-')\n",
    "        ax.text(2.55, 0.25-0.05*r, \"T_{} = {:.1f} uK\".format(roi_map[r], T_opt[r]))\n",
    "    \n",
    "ax.set_ylim(0, 1.01)\n",
    "ax.set_xlabel(xlab)\n",
    "ax.set_ylabel('Retention')\n",
    "fmts = ['pdf', 'png']\n",
    "fn = os.path.join(dp, os.path.dirname(experiment_file), 'temperature_fit.{}')\n",
    "for fmt in fmts:\n",
    "    fig.savefig(fn.format(fmt), dpi=200, format=fmt)"
   ]
  },
  {
   "cell_type": "markdown",
   "metadata": {},
   "source": [
    "# Find maximally sensitive drop time"
   ]
  },
  {
   "cell_type": "code",
   "execution_count": 74,
   "metadata": {
    "scrolled": false
   },
   "outputs": [
    {
     "data": {
      "application/vnd.jupyter.widget-view+json": {
       "model_id": "b66d2d16ca3a4be4a363163a0390832d",
       "version_major": 2,
       "version_minor": 0
      },
      "text/html": [
       "<p>Failed to display Jupyter Widget of type <code>FigureCanvasNbAgg</code>.</p>\n",
       "<p>\n",
       "  If you're reading this message in Jupyter Notebook or JupyterLab, it may mean\n",
       "  that the widgets JavaScript is still loading. If this message persists, it\n",
       "  likely means that the widgets JavaScript library is either not installed or\n",
       "  not enabled. See the <a href=\"https://ipywidgets.readthedocs.io/en/stable/user_install.html\">Jupyter\n",
       "  Widgets Documentation</a> for setup instructions.\n",
       "</p>\n",
       "<p>\n",
       "  If you're reading this message in another notebook frontend (for example, a static\n",
       "  rendering on GitHub or <a href=\"https://nbviewer.jupyter.org/\">NBViewer</a>),\n",
       "  it may mean that your frontend doesn't currently support widgets.\n",
       "</p>\n"
      ],
      "text/plain": [
       "FigureCanvasNbAgg()"
      ]
     },
     "metadata": {},
     "output_type": "display_data"
    },
    {
     "name": "stdout",
     "output_type": "stream",
     "text": [
      "object of type 'numpy.float64' has no len()\n",
      "object of type 'numpy.float64' has no len()\n",
      "object of type 'numpy.float64' has no len()\n",
      "object of type 'numpy.float64' has no len()\n",
      "object of type 'numpy.float64' has no len()\n",
      "object of type 'numpy.float64' has no len()\n",
      "object of type 'numpy.float64' has no len()\n",
      "object of type 'numpy.float64' has no len()\n",
      "object of type 'numpy.float64' has no len()\n",
      "object of type 'numpy.float64' has no len()\n",
      "object of type 'numpy.float64' has no len()\n",
      "object of type 'numpy.float64' has no len()\n",
      "object of type 'numpy.float64' has no len()\n",
      "object of type 'numpy.float64' has no len()\n",
      "object of type 'numpy.float64' has no len()\n",
      "object of type 'numpy.float64' has no len()\n",
      "object of type 'numpy.float64' has no len()\n",
      "object of type 'numpy.float64' has no len()\n",
      "object of type 'numpy.float64' has no len()\n",
      "object of type 'numpy.float64' has no len()\n",
      "object of type 'numpy.float64' has no len()\n",
      "object of type 'numpy.float64' has no len()\n",
      "object of type 'numpy.float64' has no len()\n",
      "object of type 'numpy.float64' has no len()\n",
      "object of type 'numpy.float64' has no len()\n",
      "object of type 'numpy.float64' has no len()\n",
      "object of type 'numpy.float64' has no len()\n",
      "object of type 'numpy.float64' has no len()\n",
      "object of type 'numpy.float64' has no len()\n",
      "object of type 'numpy.float64' has no len()\n",
      "object of type 'numpy.float64' has no len()\n",
      "object of type 'numpy.float64' has no len()\n",
      "object of type 'numpy.float64' has no len()\n",
      "object of type 'numpy.float64' has no len()\n",
      "object of type 'numpy.float64' has no len()\n",
      "object of type 'numpy.float64' has no len()\n",
      "object of type 'numpy.float64' has no len()\n",
      "object of type 'numpy.float64' has no len()\n",
      "object of type 'numpy.float64' has no len()\n",
      "object of type 'numpy.float64' has no len()\n",
      "object of type 'numpy.float64' has no len()\n",
      "object of type 'numpy.float64' has no len()\n",
      "object of type 'numpy.float64' has no len()\n",
      "object of type 'numpy.float64' has no len()\n",
      "object of type 'numpy.float64' has no len()\n",
      "object of type 'numpy.float64' has no len()\n",
      "object of type 'numpy.float64' has no len()\n",
      "object of type 'numpy.float64' has no len()\n",
      "object of type 'numpy.float64' has no len()\n",
      "object of type 'numpy.float64' has no len()\n",
      "object of type 'numpy.float64' has no len()\n",
      "object of type 'numpy.float64' has no len()\n",
      "object of type 'numpy.float64' has no len()\n",
      "object of type 'numpy.float64' has no len()\n",
      "object of type 'numpy.float64' has no len()\n",
      "object of type 'numpy.float64' has no len()\n",
      "object of type 'numpy.float64' has no len()\n",
      "object of type 'numpy.float64' has no len()\n",
      "object of type 'numpy.float64' has no len()\n",
      "object of type 'numpy.float64' has no len()\n",
      "object of type 'numpy.float64' has no len()\n",
      "object of type 'numpy.float64' has no len()\n",
      "object of type 'numpy.float64' has no len()\n",
      "object of type 'numpy.float64' has no len()\n",
      "object of type 'numpy.float64' has no len()\n",
      "object of type 'numpy.float64' has no len()\n",
      "object of type 'numpy.float64' has no len()\n",
      "object of type 'numpy.float64' has no len()\n",
      "object of type 'numpy.float64' has no len()\n",
      "object of type 'numpy.float64' has no len()\n",
      "object of type 'numpy.float64' has no len()\n",
      "object of type 'numpy.float64' has no len()\n",
      "object of type 'numpy.float64' has no len()\n",
      "object of type 'numpy.float64' has no len()\n",
      "object of type 'numpy.float64' has no len()\n",
      "object of type 'numpy.float64' has no len()\n",
      "object of type 'numpy.float64' has no len()\n",
      "object of type 'numpy.float64' has no len()\n",
      "object of type 'numpy.float64' has no len()\n",
      "object of type 'numpy.float64' has no len()\n",
      "object of type 'numpy.float64' has no len()\n",
      "object of type 'numpy.float64' has no len()\n",
      "object of type 'numpy.float64' has no len()\n",
      "object of type 'numpy.float64' has no len()\n",
      "object of type 'numpy.float64' has no len()\n",
      "object of type 'numpy.float64' has no len()\n",
      "object of type 'numpy.float64' has no len()\n",
      "object of type 'numpy.float64' has no len()\n",
      "object of type 'numpy.float64' has no len()\n",
      "object of type 'numpy.float64' has no len()\n",
      "object of type 'numpy.float64' has no len()\n",
      "object of type 'numpy.float64' has no len()\n",
      "object of type 'numpy.float64' has no len()\n",
      "object of type 'numpy.float64' has no len()\n",
      "object of type 'numpy.float64' has no len()\n",
      "object of type 'numpy.float64' has no len()\n",
      "object of type 'numpy.float64' has no len()\n",
      "object of type 'numpy.float64' has no len()\n",
      "object of type 'numpy.float64' has no len()\n",
      "object of type 'numpy.float64' has no len()\n",
      "object of type 'numpy.float64' has no len()\n",
      "object of type 'numpy.float64' has no len()\n",
      "object of type 'numpy.float64' has no len()\n",
      "object of type 'numpy.float64' has no len()\n",
      "object of type 'numpy.float64' has no len()\n",
      "object of type 'numpy.float64' has no len()\n",
      "object of type 'numpy.float64' has no len()\n",
      "object of type 'numpy.float64' has no len()\n",
      "object of type 'numpy.float64' has no len()\n",
      "object of type 'numpy.float64' has no len()\n",
      "object of type 'numpy.float64' has no len()\n",
      "object of type 'numpy.float64' has no len()\n",
      "object of type 'numpy.float64' has no len()\n",
      "object of type 'numpy.float64' has no len()\n",
      "object of type 'numpy.float64' has no len()\n",
      "object of type 'numpy.float64' has no len()\n",
      "object of type 'numpy.float64' has no len()\n",
      "object of type 'numpy.float64' has no len()\n",
      "object of type 'numpy.float64' has no len()\n",
      "object of type 'numpy.float64' has no len()\n",
      "object of type 'numpy.float64' has no len()\n",
      "object of type 'numpy.float64' has no len()\n",
      "object of type 'numpy.float64' has no len()\n",
      "object of type 'numpy.float64' has no len()\n",
      "object of type 'numpy.float64' has no len()\n",
      "object of type 'numpy.float64' has no len()\n",
      "object of type 'numpy.float64' has no len()\n",
      "object of type 'numpy.float64' has no len()\n",
      "object of type 'numpy.float64' has no len()\n",
      "object of type 'numpy.float64' has no len()\n",
      "object of type 'numpy.float64' has no len()\n",
      "object of type 'numpy.float64' has no len()\n",
      "object of type 'numpy.float64' has no len()\n",
      "object of type 'numpy.float64' has no len()\n",
      "object of type 'numpy.float64' has no len()\n",
      "object of type 'numpy.float64' has no len()\n",
      "object of type 'numpy.float64' has no len()\n",
      "object of type 'numpy.float64' has no len()\n",
      "object of type 'numpy.float64' has no len()\n",
      "object of type 'numpy.float64' has no len()\n",
      "object of type 'numpy.float64' has no len()\n",
      "object of type 'numpy.float64' has no len()\n",
      "object of type 'numpy.float64' has no len()\n",
      "object of type 'numpy.float64' has no len()\n",
      "object of type 'numpy.float64' has no len()\n",
      "object of type 'numpy.float64' has no len()\n",
      "object of type 'numpy.float64' has no len()\n",
      "object of type 'numpy.float64' has no len()\n",
      "object of type 'numpy.float64' has no len()\n",
      "object of type 'numpy.float64' has no len()\n",
      "object of type 'numpy.float64' has no len()\n",
      "object of type 'numpy.float64' has no len()\n",
      "object of type 'numpy.float64' has no len()\n",
      "object of type 'numpy.float64' has no len()\n",
      "object of type 'numpy.float64' has no len()\n",
      "object of type 'numpy.float64' has no len()\n",
      "object of type 'numpy.float64' has no len()\n",
      "object of type 'numpy.float64' has no len()\n",
      "object of type 'numpy.float64' has no len()\n",
      "object of type 'numpy.float64' has no len()\n",
      "object of type 'numpy.float64' has no len()\n",
      "object of type 'numpy.float64' has no len()\n",
      "object of type 'numpy.float64' has no len()\n",
      "object of type 'numpy.float64' has no len()\n",
      "object of type 'numpy.float64' has no len()\n",
      "object of type 'numpy.float64' has no len()\n",
      "object of type 'numpy.float64' has no len()\n",
      "object of type 'numpy.float64' has no len()\n",
      "object of type 'numpy.float64' has no len()\n",
      "object of type 'numpy.float64' has no len()\n",
      "object of type 'numpy.float64' has no len()\n",
      "object of type 'numpy.float64' has no len()\n",
      "object of type 'numpy.float64' has no len()\n",
      "object of type 'numpy.float64' has no len()\n",
      "object of type 'numpy.float64' has no len()\n",
      "object of type 'numpy.float64' has no len()\n",
      "object of type 'numpy.float64' has no len()\n",
      "object of type 'numpy.float64' has no len()\n",
      "object of type 'numpy.float64' has no len()\n",
      "object of type 'numpy.float64' has no len()\n",
      "object of type 'numpy.float64' has no len()\n",
      "object of type 'numpy.float64' has no len()\n",
      "object of type 'numpy.float64' has no len()\n",
      "object of type 'numpy.float64' has no len()\n",
      "object of type 'numpy.float64' has no len()\n",
      "object of type 'numpy.float64' has no len()\n",
      "object of type 'numpy.float64' has no len()\n",
      "object of type 'numpy.float64' has no len()\n",
      "object of type 'numpy.float64' has no len()\n",
      "object of type 'numpy.float64' has no len()\n",
      "object of type 'numpy.float64' has no len()\n",
      "object of type 'numpy.float64' has no len()\n",
      "object of type 'numpy.float64' has no len()\n",
      "object of type 'numpy.float64' has no len()\n",
      "object of type 'numpy.float64' has no len()\n",
      "object of type 'numpy.float64' has no len()\n",
      "object of type 'numpy.float64' has no len()\n",
      "object of type 'numpy.float64' has no len()\n",
      "object of type 'numpy.float64' has no len()\n",
      "object of type 'numpy.float64' has no len()\n",
      "object of type 'numpy.float64' has no len()\n",
      "object of type 'numpy.float64' has no len()\n",
      "object of type 'numpy.float64' has no len()\n",
      "object of type 'numpy.float64' has no len()\n",
      "object of type 'numpy.float64' has no len()\n",
      "object of type 'numpy.float64' has no len()\n",
      "object of type 'numpy.float64' has no len()\n",
      "object of type 'numpy.float64' has no len()\n",
      "object of type 'numpy.float64' has no len()\n",
      "object of type 'numpy.float64' has no len()\n",
      "object of type 'numpy.float64' has no len()\n",
      "object of type 'numpy.float64' has no len()\n",
      "object of type 'numpy.float64' has no len()\n",
      "object of type 'numpy.float64' has no len()\n",
      "object of type 'numpy.float64' has no len()\n",
      "object of type 'numpy.float64' has no len()\n",
      "object of type 'numpy.float64' has no len()\n",
      "object of type 'numpy.float64' has no len()\n",
      "object of type 'numpy.float64' has no len()\n",
      "object of type 'numpy.float64' has no len()\n",
      "object of type 'numpy.float64' has no len()\n",
      "object of type 'numpy.float64' has no len()\n",
      "object of type 'numpy.float64' has no len()\n",
      "object of type 'numpy.float64' has no len()\n",
      "object of type 'numpy.float64' has no len()\n",
      "object of type 'numpy.float64' has no len()\n",
      "object of type 'numpy.float64' has no len()\n",
      "object of type 'numpy.float64' has no len()\n",
      "object of type 'numpy.float64' has no len()\n",
      "object of type 'numpy.float64' has no len()\n",
      "object of type 'numpy.float64' has no len()\n",
      "object of type 'numpy.float64' has no len()\n",
      "object of type 'numpy.float64' has no len()\n",
      "object of type 'numpy.float64' has no len()\n",
      "object of type 'numpy.float64' has no len()\n",
      "object of type 'numpy.float64' has no len()\n",
      "object of type 'numpy.float64' has no len()\n",
      "object of type 'numpy.float64' has no len()\n",
      "object of type 'numpy.float64' has no len()\n",
      "object of type 'numpy.float64' has no len()\n",
      "object of type 'numpy.float64' has no len()\n",
      "object of type 'numpy.float64' has no len()\n",
      "object of type 'numpy.float64' has no len()\n",
      "object of type 'numpy.float64' has no len()\n",
      "object of type 'numpy.float64' has no len()\n",
      "object of type 'numpy.float64' has no len()\n",
      "object of type 'numpy.float64' has no len()\n",
      "object of type 'numpy.float64' has no len()\n",
      "object of type 'numpy.float64' has no len()\n",
      "object of type 'numpy.float64' has no len()\n",
      "object of type 'numpy.float64' has no len()\n",
      "object of type 'numpy.float64' has no len()\n",
      "object of type 'numpy.float64' has no len()\n",
      "object of type 'numpy.float64' has no len()\n",
      "object of type 'numpy.float64' has no len()\n",
      "object of type 'numpy.float64' has no len()\n",
      "object of type 'numpy.float64' has no len()\n",
      "object of type 'numpy.float64' has no len()\n",
      "object of type 'numpy.float64' has no len()\n",
      "object of type 'numpy.float64' has no len()\n",
      "object of type 'numpy.float64' has no len()\n",
      "object of type 'numpy.float64' has no len()\n",
      "object of type 'numpy.float64' has no len()\n",
      "object of type 'numpy.float64' has no len()\n",
      "object of type 'numpy.float64' has no len()\n",
      "object of type 'numpy.float64' has no len()\n",
      "object of type 'numpy.float64' has no len()\n",
      "object of type 'numpy.float64' has no len()\n",
      "object of type 'numpy.float64' has no len()\n",
      "object of type 'numpy.float64' has no len()\n",
      "object of type 'numpy.float64' has no len()\n",
      "object of type 'numpy.float64' has no len()\n",
      "object of type 'numpy.float64' has no len()\n",
      "object of type 'numpy.float64' has no len()\n",
      "object of type 'numpy.float64' has no len()\n",
      "object of type 'numpy.float64' has no len()\n",
      "object of type 'numpy.float64' has no len()\n",
      "object of type 'numpy.float64' has no len()\n",
      "object of type 'numpy.float64' has no len()\n",
      "object of type 'numpy.float64' has no len()\n",
      "object of type 'numpy.float64' has no len()\n",
      "object of type 'numpy.float64' has no len()\n",
      "object of type 'numpy.float64' has no len()\n",
      "object of type 'numpy.float64' has no len()\n",
      "object of type 'numpy.float64' has no len()\n",
      "object of type 'numpy.float64' has no len()\n",
      "object of type 'numpy.float64' has no len()\n",
      "object of type 'numpy.float64' has no len()\n",
      "object of type 'numpy.float64' has no len()\n",
      "object of type 'numpy.float64' has no len()\n",
      "object of type 'numpy.float64' has no len()\n",
      "object of type 'numpy.float64' has no len()\n",
      "object of type 'numpy.float64' has no len()\n",
      "object of type 'numpy.float64' has no len()\n",
      "object of type 'numpy.float64' has no len()\n",
      "object of type 'numpy.float64' has no len()\n",
      "object of type 'numpy.float64' has no len()\n",
      "object of type 'numpy.float64' has no len()\n",
      "object of type 'numpy.float64' has no len()\n",
      "object of type 'numpy.float64' has no len()\n",
      "object of type 'numpy.float64' has no len()\n",
      "object of type 'numpy.float64' has no len()\n",
      "object of type 'numpy.float64' has no len()\n",
      "object of type 'numpy.float64' has no len()\n",
      "object of type 'numpy.float64' has no len()\n",
      "object of type 'numpy.float64' has no len()\n",
      "object of type 'numpy.float64' has no len()\n",
      "object of type 'numpy.float64' has no len()\n",
      "object of type 'numpy.float64' has no len()\n",
      "object of type 'numpy.float64' has no len()\n"
     ]
    },
    {
     "data": {
      "text/plain": [
       "Text(0,0.5,u'd retention/dT a.u.')"
      ]
     },
     "execution_count": 74,
     "metadata": {},
     "output_type": "execute_result"
    }
   ],
   "source": [
    "# where can I be most sensitive for a temperature measurement?\n",
    "fig, ax = plt.subplots()\n",
    "for r in range(2):\n",
    "    sensitivity = []\n",
    "    c = [167, 96][r]\n",
    "    dropts = np.linspace(5, 60, 31)\n",
    "    for dropt in dropts:\n",
    "        ts = np.linspace(c-10, c+10, 5)\n",
    "        tdata = [fnode_release_recapture(dropt, T, a=roi_map[r]) for T in ts]\n",
    "        sensitivity.append(np.polyfit(ts, tdata, 1)[0]*1000)\n",
    "    ax.plot(dropts, sensitivity, 'br'[r]+'-')\n",
    "    \n",
    "# ax.set_ylim(0, 1.01)\n",
    "ax.set_xlabel('drop time (ms)')\n",
    "ax.set_ylabel('d retention/dT a.u.')"
   ]
  },
  {
   "cell_type": "code",
   "execution_count": null,
   "metadata": {},
   "outputs": [],
   "source": []
  }
 ],
 "metadata": {
  "kernelspec": {
   "display_name": "Python 2",
   "language": "python",
   "name": "python2"
  },
  "language_info": {
   "codemirror_mode": {
    "name": "ipython",
    "version": 2
   },
   "file_extension": ".py",
   "mimetype": "text/x-python",
   "name": "python",
   "nbconvert_exporter": "python",
   "pygments_lexer": "ipython2",
   "version": "2.7.6"
  }
 },
 "nbformat": 4,
 "nbformat_minor": 2
}
